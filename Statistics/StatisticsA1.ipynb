{
 "cells": [
  {
   "cell_type": "markdown",
   "id": "e298cd16",
   "metadata": {
    "vscode": {
     "languageId": "markdown"
    }
   },
   "source": [
    "\n",
    "**1.What is a random variable in probability theory?**  \n",
    "A random variable is a variable whose possible values are numerical outcomes of a random phenomenon.\n",
    "\n",
    "\n",
    "**2.What are the types of random variables?**  \n",
    "There are two types: discrete random variables (take countable values) and continuous random variables (take any value in a range).\n",
    "\n",
    "\n",
    "**3.Explain the difference between discrete and continuous distributions.**  \n",
    "Discrete distributions describe variables with specific, separate values (e.g., number of heads in coin tosses), while continuous distributions describe variables that can take any value within an interval (e.g., height).\n",
    "\n",
    "\n",
    "**4.What is a binomial distribution, and how is it used in probability?**  \n",
    "A binomial distribution models the number of successes in a fixed number of independent Bernoulli trials, each with the same probability of success. It's used to calculate probabilities of a certain number of successes.\n",
    "\n",
    "\n",
    "**5.What is the standard normal distribution, and why is it important?**  \n",
    "The standard normal distribution is a normal distribution with mean 0 and standard deviation 1. It's important because many statistical methods and tables are based on it.\n",
    "\n",
    "\n",
    "**6.What is the Central Limit Theorem (CLT), and why is it critical in statistics?**  \n",
    "The Central Limit Theorem states that the sampling distribution of the sample mean approaches a normal distribution as the sample size increases, regardless of the population's distribution. It's critical because it justifies using normal probability for inference.\n",
    "\n",
    "\n",
    "**7.What is the significance of confidence intervals in statistical analysis?**  \n",
    "Confidence intervals provide a range of values within which the true population parameter is likely to fall, giving a measure of estimation uncertainty.\n",
    "\n",
    "\n",
    "**8.What is the concept of expected value in a probability distribution?**  \n",
    "The expected value is the long-run average value of repetitions of the experiment it represents; it's the mean of a probability distribution."
   ]
  },
  {
   "cell_type": "code",
   "execution_count": 3,
   "id": "2dad07d9",
   "metadata": {
    "vscode": {
     "languageId": "markdown"
    }
   },
   "outputs": [
    {
     "name": "stdout",
     "output_type": "stream",
     "text": [
      "Computed Mean: 49.80\n",
      "Computed Standard Deviation: 5.12\n"
     ]
    },
    {
     "data": {
      "image/png": "[encoded data removed]",
      "text/plain": [
       "<Figure size 640x480 with 1 Axes>"
      ]
     },
     "metadata": {},
     "output_type": "display_data"
    }
   ],
   "source": [
    "\n",
    "#9. Write a Python program to generate 1000 random numbers from a normal distribution with mean = 50 and standard #deviation = 5. Compute its mean and standard deviation using NumPy, and draw a histogram to visualize the distribution.\n",
    "\n",
    "import numpy as np\n",
    "import matplotlib.pyplot as plt\n",
    "\n",
    "mean = 50\n",
    "std_dev = 5\n",
    "data = np.random.normal(loc=mean, scale=std_dev, size=1000)\n",
    "\n",
    "computed_mean = np.mean(data)\n",
    "computed_std = np.std(data)\n",
    "\n",
    "print(f\"Computed Mean: {computed_mean:.2f}\")\n",
    "print(f\"Computed Standard Deviation: {computed_std:.2f}\")\n",
    "\n",
    "plt.hist(data, bins=30, color='skyblue', edgecolor='black')\n",
    "plt.title('Histogram of Normally Distributed Data')\n",
    "plt.xlabel('Value')\n",
    "plt.ylabel('Frequency')\n",
    "plt.grid(True)\n",
    "plt.show()\n",
    "\n"
   ]
  },
  {
   "cell_type": "code",
   "execution_count": 5,
   "id": "9d627a98",
   "metadata": {
    "vscode": {
     "languageId": "markdown"
    }
   },
   "outputs": [
    {
     "name": "stdout",
     "output_type": "stream",
     "text": [
      "Mean Sales: 248.25\n",
      "95% Confidence Interval: 240.68 to 255.82\n"
     ]
    }
   ],
   "source": [
    "#10.You are working as a data analyst for a retail company. The company has collected daily sales data for 2 years and #wants you to identify the overall sales trend.\n",
    "#daily_sales = [220, 245, 210, 265, 230, 250, 260, 275, 240, 255, 235, 260, 245, 250, 225, 270, 265, 255, 250, 260]\n",
    "\n",
    "#●\tExplain how you would apply the Central Limit Theorem to estimate the average sales with a 95% confidence interval.\n",
    "#●\tWrite the Python code to compute the mean sales and its confidence interval. \n",
    "\n",
    "'''Answer:\n",
    "The Central Limit Theorem states:\n",
    "\n",
    "If you take repeated samples of size n from a population, the distribution of the sample means will approach a normal distribution (bell curve), regardless of the population's distribution, as n becomes large.\n",
    "\n",
    "Even though we have a small dataset, the idea still applies when estimating the population mean using the sample mean and sample standard deviation.'''\n",
    "\n",
    "import numpy as np\n",
    "from scipy import stats\n",
    "\n",
    "daily_sales = [220, 245, 210, 265, 230, 250, 260, 275, 240, 255,\n",
    "               235, 260, 245, 250, 225, 270, 265, 255, 250, 260]\n",
    "\n",
    "data = np.array(daily_sales)\n",
    "\n",
    "mean_sales = np.mean(data)\n",
    "std_dev = np.std(data, ddof=1)  # Sample standard deviation\n",
    "n = len(data)\n",
    "std_error = std_dev / np.sqrt(n)\n",
    "\n",
    "z_score = 1.96\n",
    "margin_of_error = z_score * std_error\n",
    "confidence_interval = (mean_sales - margin_of_error, mean_sales + margin_of_error)\n",
    "\n",
    "print(f\"Mean Sales: {mean_sales:.2f}\")\n",
    "print(f\"95% Confidence Interval: {confidence_interval[0]:.2f} to {confidence_interval[1]:.2f}\")\n"
   ]
  },
  {
   "cell_type": "code",
   "execution_count": null,
   "id": "983187f5",
   "metadata": {
    "vscode": {
     "languageId": "markdown"
    }
   },
   "outputs": [],
   "source": []
  }
 ],
 "metadata": {
  "kernelspec": {
   "display_name": "Python 3",
   "language": "python",
   "name": "python3"
  },
  "language_info": {
   "codemirror_mode": {
    "name": "ipython",
    "version": 3
   },
   "file_extension": ".py",
   "mimetype": "text/x-python",
   "name": "python",
   "nbconvert_exporter": "python",
   "pygments_lexer": "ipython3",
   "version": "3.13.1"
  }
 },
 "nbformat": 4,
 "nbformat_minor": 5
}
