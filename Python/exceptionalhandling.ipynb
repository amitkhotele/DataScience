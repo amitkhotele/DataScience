{
 "cells": [
  {
   "cell_type": "markdown",
   "id": "da6a96b8",
   "metadata": {},
   "source": [
    "#Theory Questions"
   ]
  },
  {
   "cell_type": "markdown",
   "id": "9a152f22",
   "metadata": {
    "vscode": {
     "languageId": "java"
    }
   },
   "source": [
    "\n",
    "    1. What is the difference between interpreted and compiled languages?\\n--> Interpreted languages execute code line by line, whil compiled languages translate code into machine language before execution.\n",
    "    \n",
    "    2. What is exception handling in Python?\\n--> Exception handling lets you manage errors gracefully using try, except, else, and finally blocks.\n",
    "    \n",
    "    3. What is the purpose of the finally block in exception handling?\\n--> The finally block always runs, letting you clean up resources like files or connections, no matter what.\n",
    "    \n",
    "    4. What is logging in Python?\\n--> Logging records events or errors during program execution, helping with debugging and monitoring.\n",
    "    \n",
    "    5. What is the significance of the __del__ method in Python?\\n--> The __del__ method is called when an object is about to be destroyed, useful for cleanup tasks.\n",
    "    \n",
    "    6. What is the difference between import and from ... import in Python?\\n--> 'import' brings in the whole module, while 'from ... import' brings in specific parts of a module.\n",
    "    \n",
    "    7. How can you handle multiple exceptions in Python?\\n--> You can handle multiple exceptions by specifying a tuple of exceptions in a single except block.\n",
    "    \n",
    "    8. What is the purpose of the with statement when handling files in Python?\\n--> The with statement automatically closes the file after its block is executed, even if errors occur.\n",
    "    \n",
    "    9. What is the difference between multithreading and multiprocessing?\\n--> Multithreading runs multiple threads in one process, while multiprocessing runs multiple processes independently.\n",
    "    \n",
    "    10. What are the advantages of using logging in a program?\\n--> Logging helps track events, errors, and program flow, making debugging and maintenance easier.\n",
    "    \n",
    "    11. What is memory management in Python?\\n--> Memory management is how Python allocates and frees memory for objects during program execution.\n",
    "    \n",
    "    12. What are the basic steps involved in exception handling in Python?\\n--> Wrap risky code in try, catch errors with except, use else for code if no error, and finally for cleanup.\n",
    "    \n",
    "    13. Why is memory management important in Python?\\n--> Good memory management prevents memory leaks and ensures efficient use of system resources.\n",
    "    \n",
    "    14. What is the role of try and except in exception handling?\\n--> The try block holds code that might fail, and except handles the error if one occurs.\n",
    "    \n",
    "    15. How does Python's garbage collection system work?\\n--> Python automatically frees memory by deleting objects that are no longer referenced.\n",
    "    \n",
    "    16. What is the purpose of the else block in exception handling?\\n--> The else block runs if no exceptions occur in the try block.\n",
    "    \n",
    "    17. What are the common logging levels in Python?\\n--> Common logging levels are DEBUG, INFO, WARNING, ERROR, and CRITICAL.\n",
    "    \n",
    "    18. What is the difference between os.fork() and multiprocessing in Python?\\n--> os.fork() creates a child process (Unix only), while multiprocessing works cross-platform and is more flexible.\n",
    "    \n",
    "    19. What is the importance of closing a file in Python?\\n--> Closing a file saves changes and frees system resources.\n",
    "    \n",
    "    20. What is the difference between file.read() and file.readline() in Python?\\n--> file.read() reads the whole file, while file.readline() reads one line at a time.\n",
    "    \n",
    "    21. What is the logging module in Python used for?\\n--> The logging module helps record messages about program execution for debugging and monitoring.\n",
    "    \n",
    "    22. What is the os module in Python used for in file handling?\\n--> The os module lets you interact with the operating system, like creating or deleting files and directories.\n",
    "    \n",
    "    23. What are the challenges associated with memory management in Python?\\n--> Challenges include avoiding memory leaks and managing objects with circular references.\n",
    "    \n",
    "    24. How do you raise an exception manually in Python?\\n--> Use the raise statement to trigger an exception intentionally.\n",
    "    \n",
    "    25. Why is it important to use multithreading in certain applications?\\n--> Multithreading can make programs faster by doing multiple tasks at once, especially for I/O-bound tasks.\n",
    "    \n"
   ]
  },
  {
   "cell_type": "markdown",
   "id": "e0c5388a",
   "metadata": {},
   "source": [
    "#Practical Questions\n"
   ]
  },
  {
   "cell_type": "code",
   "execution_count": 1,
   "id": "ced9ea05",
   "metadata": {},
   "outputs": [],
   "source": [
    "import logging\n",
    "import os\n",
    "from logging.handlers import RotatingFileHandler"
   ]
  },
  {
   "cell_type": "code",
   "execution_count": 2,
   "id": "117bf101",
   "metadata": {},
   "outputs": [],
   "source": [
    "# 1. Open a file for writing and write a string to it\n",
    "with open('example.txt', 'w') as f:\n",
    "    f.write('Hello, world!')"
   ]
  },
  {
   "cell_type": "code",
   "execution_count": 4,
   "id": "ba3b6e84",
   "metadata": {},
   "outputs": [
    {
     "name": "stdout",
     "output_type": "stream",
     "text": [
      "Hello, world!\n",
      "Appended line.\n"
     ]
    }
   ],
   "source": [
    "\n",
    "# 2. Read the contents of a file and print each line\n",
    "with open('example.txt', 'r') as f:\n",
    "    for line in f:\n",
    "        print(line.strip())"
   ]
  },
  {
   "cell_type": "code",
   "execution_count": 5,
   "id": "fd87cd8e",
   "metadata": {},
   "outputs": [
    {
     "name": "stdout",
     "output_type": "stream",
     "text": [
      "File does not exist.\n"
     ]
    }
   ],
   "source": [
    "# 3. Handle a case where the file doesn't exist while trying to open it for reading\n",
    "try:\n",
    "    with open('nonexistent.txt', 'r') as f:\n",
    "        content = f.read()\n",
    "except FileNotFoundError:\n",
    "    print(\"File does not exist.\")"
   ]
  },
  {
   "cell_type": "code",
   "execution_count": 6,
   "id": "4673cba1",
   "metadata": {},
   "outputs": [],
   "source": [
    "# 4. Read from one file and write its content to another file\n",
    "with open('example.txt', 'r') as src, open('copy.txt', 'w') as dst:\n",
    "    dst.write(src.read())"
   ]
  },
  {
   "cell_type": "code",
   "execution_count": 7,
   "id": "5e75dfec",
   "metadata": {},
   "outputs": [
    {
     "name": "stdout",
     "output_type": "stream",
     "text": [
      "Cannot divide by zero.\n"
     ]
    }
   ],
   "source": [
    "# 5. Catch and handle division by zero error\n",
    "try:\n",
    "    result = 10 / 0\n",
    "except ZeroDivisionError:\n",
    "    print(\"Cannot divide by zero.\")"
   ]
  },
  {
   "cell_type": "code",
   "execution_count": 8,
   "id": "21512eb8",
   "metadata": {},
   "outputs": [],
   "source": [
    "# 6. Log an error message to a log file when a division by zero exception occurs\n",
    "logging.basicConfig(filename='error.log', level=logging.ERROR)\n",
    "try:\n",
    "    result = 10 / 0\n",
    "except ZeroDivisionError as e:\n",
    "    logging.error(f\"Division by zero error: {e}\")"
   ]
  },
  {
   "cell_type": "code",
   "execution_count": 9,
   "id": "3c2ee5f7",
   "metadata": {},
   "outputs": [],
   "source": [
    "# 7. Log information at different levels using the logging module\n",
    "logging.basicConfig(filename='app.log', level=logging.DEBUG)\n",
    "logging.info(\"This is an info message.\")\n",
    "logging.warning(\"This is a warning message.\")\n",
    "logging.error(\"This is an error message.\")"
   ]
  },
  {
   "cell_type": "code",
   "execution_count": 10,
   "id": "ed591d64",
   "metadata": {},
   "outputs": [
    {
     "name": "stdout",
     "output_type": "stream",
     "text": [
      "File not found error handled.\n"
     ]
    }
   ],
   "source": [
    "# 8. Handle a file opening error using exception handling\n",
    "try:\n",
    "    with open('another_nonexistent.txt', 'r') as f:\n",
    "        data = f.read()\n",
    "except FileNotFoundError:\n",
    "    print(\"File not found error handled.\")"
   ]
  },
  {
   "cell_type": "code",
   "execution_count": 11,
   "id": "2ce09c8e",
   "metadata": {},
   "outputs": [
    {
     "name": "stdout",
     "output_type": "stream",
     "text": [
      "['Hello, world!', 'Appended line.']\n"
     ]
    }
   ],
   "source": [
    "# 9. Read a file line by line and store its content in a list\n",
    "with open('example.txt', 'r') as f:\n",
    "    lines = [line.strip() for line in f]\n",
    "print(lines)"
   ]
  },
  {
   "cell_type": "code",
   "execution_count": 12,
   "id": "587d8128",
   "metadata": {},
   "outputs": [],
   "source": [
    "# 10. Append data to an existing file\n",
    "with open('example.txt', 'a') as f:\n",
    "    f.write('\\nAppended line.')"
   ]
  },
  {
   "cell_type": "code",
   "execution_count": 13,
   "id": "c3cc12b9",
   "metadata": {},
   "outputs": [
    {
     "name": "stdout",
     "output_type": "stream",
     "text": [
      "Key does not exist.\n"
     ]
    }
   ],
   "source": [
    "# 11. Handle error when accessing a dictionary key that doesn't exist\n",
    "my_dict = {'a': 1}\n",
    "try:\n",
    "    value = my_dict['b']\n",
    "except KeyError:\n",
    "    print(\"Key does not exist.\")"
   ]
  },
  {
   "cell_type": "code",
   "execution_count": 14,
   "id": "ae0f33fc",
   "metadata": {},
   "outputs": [
    {
     "name": "stdout",
     "output_type": "stream",
     "text": [
      "Index error occurred.\n"
     ]
    }
   ],
   "source": [
    "# 12. Multiple except blocks for different exceptions\n",
    "try:\n",
    "    lst = [1, 2, 3]\n",
    "    print(lst[5])\n",
    "    d = {}\n",
    "    print(d['x'])\n",
    "except IndexError:\n",
    "    print(\"Index error occurred.\")\n",
    "except KeyError:\n",
    "    print(\"Key error occurred.\")"
   ]
  },
  {
   "cell_type": "code",
   "execution_count": 15,
   "id": "8e57651a",
   "metadata": {},
   "outputs": [
    {
     "name": "stdout",
     "output_type": "stream",
     "text": [
      "Hello, world!\n",
      "Appended line.\n",
      "Appended line.\n"
     ]
    }
   ],
   "source": [
    "\n",
    "# 13. Check if a file exists before reading\n",
    "if os.path.exists('example.txt'):\n",
    "    with open('example.txt', 'r') as f:\n",
    "        print(f.read())\n",
    "else:\n",
    "    print(\"File does not exist.\")"
   ]
  },
  {
   "cell_type": "code",
   "execution_count": 16,
   "id": "db4e4c4d",
   "metadata": {},
   "outputs": [],
   "source": [
    "# 14. Log both informational and error messages\n",
    "logging.info(\"Informational message.\")\n",
    "try:\n",
    "    1 / 0\n",
    "except ZeroDivisionError:\n",
    "    logging.error(\"Error: Division by zero.\")\n"
   ]
  },
  {
   "cell_type": "code",
   "execution_count": 17,
   "id": "678b3fa4",
   "metadata": {},
   "outputs": [
    {
     "name": "stdout",
     "output_type": "stream",
     "text": [
      "Hello, world!\n",
      "Appended line.\n",
      "Appended line.\n"
     ]
    }
   ],
   "source": [
    "# 15. Print the content of a file and handle the case when the file is empty\n",
    "with open('example.txt', 'r') as f:\n",
    "    content = f.read()\n",
    "    if content:\n",
    "        print(content)\n",
    "    else:\n",
    "        print(\"File is empty.\")"
   ]
  },
  {
   "cell_type": "code",
   "execution_count": 18,
   "id": "1c51ec5a",
   "metadata": {},
   "outputs": [],
   "source": [
    "\n",
    "# 16. Memory profiling of a small program\n",
    "def my_func():\n",
    "    a = [i for i in range(10000)]\n",
    "    return sum(a)\n"
   ]
  },
  {
   "cell_type": "code",
   "execution_count": 19,
   "id": "2cc275c3",
   "metadata": {},
   "outputs": [],
   "source": [
    "# 17. Write a list of numbers to a file, one number per line\n",
    "numbers = [1, 2, 3, 4, 5]\n",
    "with open('numbers.txt', 'w') as f:\n",
    "    for num in numbers:\n",
    "        f.write(f\"{num}\\n\")"
   ]
  },
  {
   "cell_type": "code",
   "execution_count": 20,
   "id": "cebe1cfd",
   "metadata": {},
   "outputs": [],
   "source": [
    "# 18. Basic logging setup with rotation after 1MB\n",
    "logger = logging.getLogger('my_logger')\n",
    "logger.setLevel(logging.INFO)\n",
    "handler = RotatingFileHandler('rotating.log', maxBytes=1024*1024, backupCount=3)\n",
    "logger.addHandler(handler)\n",
    "logger.info(\"This is a log message with rotation.\")"
   ]
  },
  {
   "cell_type": "code",
   "execution_count": 21,
   "id": "281d5146",
   "metadata": {},
   "outputs": [
    {
     "name": "stdout",
     "output_type": "stream",
     "text": [
      "Error occurred: list index out of range\n"
     ]
    }
   ],
   "source": [
    "# 19. Handle both IndexError and KeyError using try-except\n",
    "try:\n",
    "    l = [1, 2]\n",
    "    print(l[5])\n",
    "    d = {}\n",
    "    print(d['missing'])\n",
    "except (IndexError, KeyError) as e:\n",
    "    print(f\"Error occurred: {e}\")"
   ]
  },
  {
   "cell_type": "code",
   "execution_count": 22,
   "id": "62a133ef",
   "metadata": {},
   "outputs": [
    {
     "name": "stdout",
     "output_type": "stream",
     "text": [
      "Hello, world!\n",
      "Appended line.\n",
      "Appended line.\n"
     ]
    }
   ],
   "source": [
    "# 20. Open a file and read its contents using a context manager\n",
    "with open('example.txt', 'r') as f:\n",
    "    print(f.read())"
   ]
  },
  {
   "cell_type": "code",
   "execution_count": 23,
   "id": "34a0d825",
   "metadata": {},
   "outputs": [
    {
     "name": "stdout",
     "output_type": "stream",
     "text": [
      "'Hello' occurs 1 times.\n"
     ]
    }
   ],
   "source": [
    "# 21. Read a file and print the number of occurrences of a specific word\n",
    "word = 'Hello'\n",
    "with open('example.txt', 'r') as f:\n",
    "    text = f.read()\n",
    "    count = text.count(word)\n",
    "    print(f\"'{word}' occurs {count} times.\")"
   ]
  },
  {
   "cell_type": "code",
   "execution_count": 24,
   "id": "b2aeed00",
   "metadata": {},
   "outputs": [
    {
     "name": "stdout",
     "output_type": "stream",
     "text": [
      "Hello, world!\n",
      "Appended line.\n",
      "Appended line.\n"
     ]
    }
   ],
   "source": [
    "# 22. Check if a file is empty before reading its contents\n",
    "if os.path.exists('example.txt') and os.path.getsize('example.txt') > 0:\n",
    "    with open('example.txt', 'r') as f:\n",
    "        print(f.read())\n",
    "else:\n",
    "    print(\"File is empty or does not exist.\")"
   ]
  },
  {
   "cell_type": "code",
   "execution_count": 25,
   "id": "318d31a9",
   "metadata": {},
   "outputs": [],
   "source": [
    "# 23. Write to a log file when an error occurs during file handling\n",
    "try:\n",
    "    with open('missing.txt', 'r') as f:\n",
    "        data = f.read()\n",
    "except Exception as e:\n",
    "    logging.error(f\"File handling error: {e}\")"
   ]
  }
 ],
 "metadata": {
  "kernelspec": {
   "display_name": "Python 3",
   "language": "python",
   "name": "python3"
  },
  "language_info": {
   "codemirror_mode": {
    "name": "ipython",
    "version": 3
   },
   "file_extension": ".py",
   "mimetype": "text/x-python",
   "name": "python",
   "nbconvert_exporter": "python",
   "pygments_lexer": "ipython3",
   "version": "3.11.9"
  }
 },
 "nbformat": 4,
 "nbformat_minor": 5
}
