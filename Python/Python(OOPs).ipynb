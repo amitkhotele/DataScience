{
 "cells": [
  {
   "cell_type": "markdown",
   "id": "bbda3f10",
   "metadata": {},
   "source": [
    "# Python OOPs Questions with Answers\n",
    "\n",
    " 1. What is Object-Oriented Programming (OOP)?\n",
    "    --OOP is a programming paradigm based on the concept of objects, which contain data and methods. It promotes code reusability, modularity, and abstraction.\n",
    "\n",
    " 2. What is a class in OOP?\n",
    "    A class is a blueprint for creating objects. It defines attributes and methods that the created objects will have.\n",
    "\n",
    " 3. What is an object in OOP?\n",
    "    An object is an instance of a class. It represents a real-world entity with state (attributes) and behavior (methods).\n",
    "\n",
    " 4. What is the difference between abstraction and encapsulation?\n",
    "    Abstraction hides complex implementation details and shows only the necessary features. Encapsulation bundles data and methods together and restricts direct access to some of the object's components.\n",
    "\n",
    " 5. What are dunder methods in Python?\n",
    "    Dunder (double underscore) methods are special methods with names starting and ending with double underscores, like __init__, __str__, etc. They enable operator overloading and customization of built-in behavior.\n",
    "\n",
    " 6. Explain the concept of inheritance in OOP.\n",
    "    Inheritance allows a class (child) to inherit attributes and methods from another class (parent), promoting code reuse.\n",
    "\n",
    " 7. What is polymorphism in OOP?\n",
    "    Polymorphism allows objects of different classes to be treated as objects of a common superclass. It enables the same method to have different behaviors in different classes.\n",
    "\n",
    " 8. How is encapsulation achieved in Python?\n",
    "    Encapsulation is achieved by using private and protected access modifiers (prefixing attributes with _ or __) and providing getter/setter methods.\n",
    "\n",
    " 9. What is a constructor in Python?\n",
    "    A constructor is a special method (__init__) that is called when an object is instantiated. It initializes the object's attributes.\n",
    "\n",
    " 10. What are class and static methods in Python?\n",
    "     Class methods use @classmethod decorator and take cls as the first parameter. Static methods use @staticmethod and do not take self or cls.\n",
    "\n",
    " 11. What is method overloading in Python?\n",
    "     Python does not support traditional method overloading. However, default arguments or *args/**kwargs can be used to achieve similar behavior.\n",
    "\n",
    " 12. What is method overriding in OOP?\n",
    "     Method overriding occurs when a subclass provides a specific implementation of a method already defined in its superclass.\n",
    "\n",
    " 13. What is a property decorator in Python?\n",
    "     The @property decorator is used to define getter methods, allowing class attributes to be accessed like attributes but with getter/setter logic.\n",
    "\n",
    " 14. Why is polymorphism important in OOP?\n",
    "     Polymorphism increases flexibility and reusability by allowing the same interface to be used for different underlying forms (data types).\n",
    "\n",
    " 15. What is an abstract class in Python?\n",
    "     An abstract class is a class that cannot be instantiated and often contains abstract methods that must be implemented by subclasses. Defined using the abc module.\n",
    "\n",
    " 16. What are the advantages of OOP?\n",
    "     OOP provides modularity, code reusability, scalability, and easier maintenance.\n",
    "\n",
    " 17. What is the difference between a class variable and an instance variable?\n",
    "     Class variables are shared across all instances of a class, while instance variables are unique to each object.\n",
    "\n",
    " 18. What is multiple inheritance in Python?\n",
    "     Multiple inheritance allows a class to inherit from more than one parent class.\n",
    "\n",
    " 19. Explain the purpose of `__str__` and `__repr__` methods in Python.\n",
    "     __str__ returns a readable string representation of an object, used by print(). __repr__ returns an unambiguous string for debugging.\n",
    "\n",
    " 20. What is the significance of the `super()` function in Python?\n",
    "     super() is used to call methods from a parent or sibling class, often used in method overriding.\n",
    "\n",
    " 21. What is the significance of the `__del__` method in Python?\n",
    "     __del__ is a destructor method called when an object is about to be destroyed, used for cleanup.\n",
    "\n",
    " 22. What is the difference between @staticmethod and @classmethod in Python?\n",
    "     @staticmethod does not access class or instance data. @classmethod takes cls as the first parameter and can modify class state.\n",
    "\n",
    " 23. How does polymorphism work in Python with inheritance?\n",
    "     Subclasses can override methods of the parent class, and the correct method is called based on the object's type at runtime.\n",
    "\n",
    " 24. What is method chaining in Python OOP?\n",
    "     Method chaining is calling multiple methods sequentially in a single line, usually by returning self from each method.\n",
    "\n",
    " 25. What is the purpose of the `__call__` method in Python?\n",
    "     __call__ allows an instance of a class to be called as a function."
   ]
  },
  {
   "cell_type": "markdown",
   "id": "8dd1c36b",
   "metadata": {},
   "source": [
    "#Practical Questions"
   ]
  },
  {
   "cell_type": "code",
   "execution_count": 2,
   "id": "e9ecc181",
   "metadata": {},
   "outputs": [
    {
     "name": "stdout",
     "output_type": "stream",
     "text": [
      "Bark!\n"
     ]
    }
   ],
   "source": [
    "#1. Create a parent class Animal with a method speak() that prints a generic message. Create a child class Dog\n",
    "#that overrides the speak() method to print \"Bark!\".\n",
    "\n",
    "class Animal:\n",
    "    def speak(self):\n",
    "        print(\"The animal makes a sound.\")\n",
    "        \n",
    "class Dog(Animal):\n",
    "    def speak(self):\n",
    "        print(\"Bark!\")\n",
    "        \n",
    "d = Dog()\n",
    "d.speak()  "
   ]
  },
  {
   "cell_type": "code",
   "execution_count": 4,
   "id": "af1559f7",
   "metadata": {},
   "outputs": [
    {
     "name": "stdout",
     "output_type": "stream",
     "text": [
      "Circle area: 78.5\n",
      "Rectangle area: 24\n"
     ]
    }
   ],
   "source": [
    "#2. Write a program to create an abstract class Shape with a method area(). Derive classes Circle and Rectangle\n",
    "#from it and implement the area() method in both.\n",
    "\n",
    "from abc import ABC, abstractmethod\n",
    "class Shape(ABC):\n",
    "    @abstractmethod\n",
    "    def area(self):\n",
    "        pass\n",
    "\n",
    "class Circle(Shape):\n",
    "    def __init__(self, radius):\n",
    "        self.radius = radius\n",
    "        \n",
    "    def area(self):\n",
    "        return 3.14 * self.radius * self.radius\n",
    "    \n",
    "class Rectangle(Shape):\n",
    "    def __init__(self, width, height):\n",
    "        self.width = width\n",
    "        self.height = height\n",
    "        \n",
    "    def area(self):\n",
    "        return self.width * self.height\n",
    "    \n",
    "circle = Circle(5)\n",
    "print(\"Circle area:\", circle.area())\n",
    "rectangle = Rectangle(4, 6)\n",
    "print(\"Rectangle area:\", rectangle.area())"
   ]
  },
  {
   "cell_type": "code",
   "execution_count": 5,
   "id": "9afb4c58",
   "metadata": {},
   "outputs": [],
   "source": [
    "#3. Implement a multi-level inheritance scenario where a class Vehicle has an attribute type. Derive a class Car\n",
    "#and further derive a class ElectricCar that adds a battery attribute.\n",
    "\n",
    "class Vehical:\n",
    "    def __init__(self,type):\n",
    "        self.type = type\n",
    "\n",
    "class Car(Vehical):\n",
    "    def __init__(self, type, model):\n",
    "        super().__init__(type)\n",
    "        self.model = model\n",
    "\n",
    "class ElectricCar(Car):\n",
    "    def __init__(self, type, model, battery):\n",
    "        super().__init__(type, model)\n",
    "        self.battery = battery\n",
    "        \n"
   ]
  },
  {
   "cell_type": "code",
   "execution_count": 7,
   "id": "e1e19bdb",
   "metadata": {},
   "outputs": [
    {
     "name": "stdout",
     "output_type": "stream",
     "text": [
      "The sparrow flies high in the sky.\n",
      "Penguins cannot fly, but they can swim.\n"
     ]
    }
   ],
   "source": [
    "#4. Demonstrate polymorphism by creating a base class Bird with a method fly(). Create two derived classes\n",
    "#Sparrow and Penguin that override the fly() method.\n",
    "\n",
    "class Bird:\n",
    "    def fly(self):\n",
    "        print(\"The bird flies.\")\n",
    "\n",
    "class Sparrow(Bird):\n",
    "    def fly(self):\n",
    "        print(\"The sparrow flies high in the sky.\")\n",
    "        \n",
    "class Penguin(Bird):\n",
    "    def fly(self):\n",
    "        print(\"Penguins cannot fly, but they can swim.\")\n",
    "        \n",
    "sparrow = Sparrow()\n",
    "sparrow.fly()   \n",
    "\n",
    "p=Penguin()\n",
    "p.fly()\n"
   ]
  },
  {
   "cell_type": "code",
   "execution_count": 10,
   "id": "3ef260b9",
   "metadata": {},
   "outputs": [
    {
     "name": "stdout",
     "output_type": "stream",
     "text": [
      "Current balance: 100\n",
      "Deposited: 50. New balance: 150\n",
      "Withdrew: 30. New balance: 120\n",
      "Current balance: 120\n"
     ]
    }
   ],
   "source": [
    "#5. Write a program to demonstrate encapsulation by creating a class BankAccount with private attributes\n",
    "#balance and methods to deposit, withdraw, and check balance.\n",
    "\n",
    "class BankAccount:\n",
    "    def __init__(self, initial_balance=0):\n",
    "        self.__balance = initial_balance  # Private attribute\n",
    "\n",
    "    def deposit(self, amount):\n",
    "        if amount > 0:\n",
    "            self.__balance += amount\n",
    "            print(f\"Deposited: {amount}. New balance: {self.__balance}\")\n",
    "        else:\n",
    "            print(\"Deposit amount must be positive.\")\n",
    "\n",
    "    def withdraw(self, amount):\n",
    "        if 0 < amount <= self.__balance:\n",
    "            self.__balance -= amount\n",
    "            print(f\"Withdrew: {amount}. New balance: {self.__balance}\")\n",
    "        else:\n",
    "            print(\"Invalid withdrawal amount.\")\n",
    "\n",
    "    def check_balance(self):\n",
    "        return self.__balance\n",
    "    \n",
    "account = BankAccount(100)\n",
    "print(\"Current balance:\", account.check_balance())\n",
    "account.deposit(50)\n",
    "account.withdraw(30)\n",
    "print(\"Current balance:\", account.check_balance())\n"
   ]
  },
  {
   "cell_type": "code",
   "execution_count": 12,
   "id": "939cf350",
   "metadata": {},
   "outputs": [
    {
     "name": "stdout",
     "output_type": "stream",
     "text": [
      "Strumming the guitar.\n",
      "Playing the piano keys.\n"
     ]
    }
   ],
   "source": [
    "#6. Demonstrate runtime polymorphism using a method play() in a base class Instrument. Derive classes Guitar\n",
    "#and Piano that implement their own version of play().\n",
    "\n",
    "class Instrument:\n",
    "    def play(self):\n",
    "        print(\"Playing an instrument.\")\n",
    "\n",
    "class Guitar(Instrument):\n",
    "    def play(self):\n",
    "        print(\"Strumming the guitar.\")\n",
    "\n",
    "class Piano(Instrument):\n",
    "    def play(self):\n",
    "        print(\"Playing the piano keys.\")\n",
    "\n",
    "guitar = Guitar()\n",
    "guitar.play()\n",
    "piano = Piano()\n",
    "piano.play()"
   ]
  },
  {
   "cell_type": "code",
   "execution_count": 15,
   "id": "59fcc1f1",
   "metadata": {},
   "outputs": [
    {
     "name": "stdout",
     "output_type": "stream",
     "text": [
      "Addition Result: 15\n",
      "Substract Result: 5\n"
     ]
    }
   ],
   "source": [
    "#7. Create a class MathOperations with a class method add_numbers() to add two numbers and a static\n",
    "#method subtract_numbers() to subtract two numbers.\n",
    "\n",
    "class MathOperations:\n",
    "    @classmethod\n",
    "    def add_numbers(cls, a, b):\n",
    "        return a + b\n",
    "\n",
    "    @staticmethod\n",
    "    def sub_numbers(a, b):\n",
    "        return a - b\n",
    "    \n",
    "result_add = MathOperations.add_numbers(10, 5)\n",
    "result_sub = MathOperations.sub_numbers(10, 5)\n",
    "print(\"Addition Result:\", result_add)\n",
    "print(\"Substract Result:\", result_sub)"
   ]
  },
  {
   "cell_type": "code",
   "execution_count": 16,
   "id": "f7c16c03",
   "metadata": {},
   "outputs": [
    {
     "name": "stdout",
     "output_type": "stream",
     "text": [
      "Total persons created: 3\n"
     ]
    }
   ],
   "source": [
    "#8. Implement a class Person with a class method to count the total number of persons created\n",
    "\n",
    "class Person:\n",
    "    count = 0\n",
    "    def __init__(self, name):\n",
    "        self.name = name\n",
    "        Person.count += 1\n",
    "        \n",
    "    @classmethod\n",
    "    def total_persons(cls):\n",
    "        return cls.count    \n",
    "    \n",
    "p1 = Person(\"Amit\")\n",
    "p2 = Person(\"Priya\")\n",
    "p3 = Person(\"Ajay\")\n",
    "print(\"Total persons created:\", Person.total_persons())"
   ]
  },
  {
   "cell_type": "code",
   "execution_count": null,
   "id": "f7834ef7",
   "metadata": {},
   "outputs": [
    {
     "name": "stdout",
     "output_type": "stream",
     "text": [
      "Fraction: 3/4\n"
     ]
    }
   ],
   "source": [
    "#9. Write a class Fraction with attributes numerator and denominator. Override the str method to display the\n",
    "#fraction as \"numerator/denominator\".\n",
    "\n",
    "class Fraction:\n",
    "    def __init__(self, numerator, denominator):\n",
    "        self.numerator = numerator\n",
    "        self.denominator = denominator\n",
    "\n",
    "    def __str__(self):\n",
    "        return f\"{self.numerator}/{self.denominator}\"   \n",
    "    \n",
    "fraction = Fraction(3, 4)\n",
    "print(\"Fraction:\", fraction)"
   ]
  },
  {
   "cell_type": "code",
   "execution_count": 18,
   "id": "f61d63a6",
   "metadata": {},
   "outputs": [
    {
     "name": "stdout",
     "output_type": "stream",
     "text": [
      "Result of vector addition: Vector(6, 8)\n"
     ]
    }
   ],
   "source": [
    "#10. Demonstrate operator overloading by creating a class Vector and overriding the add method to add two\n",
    "#vectors.\n",
    "\n",
    "class Vector:\n",
    "    def __init__(self, x, y):\n",
    "        self.x = x\n",
    "        self.y = y\n",
    "\n",
    "    def __add__(self, other):\n",
    "        return Vector(self.x + other.x, self.y + other.y)\n",
    "\n",
    "    def __str__(self):\n",
    "        return f\"Vector({self.x}, {self.y})\"\n",
    "    \n",
    "v1 = Vector(2, 3)\n",
    "v2 = Vector(4, 5)\n",
    "v3 = v1 + v2\n",
    "print(\"Result of vector addition:\", v3)"
   ]
  },
  {
   "cell_type": "code",
   "execution_count": 19,
   "id": "d6cd6c30",
   "metadata": {},
   "outputs": [
    {
     "name": "stdout",
     "output_type": "stream",
     "text": [
      "Hello, my name is John and I am 30 years old.\n"
     ]
    }
   ],
   "source": [
    "#11. Create a class Person with attributes name and age. Add a method greet() that prints \"Hello, my name is\n",
    "#{name} and I am {age} years old.\"\n",
    "\n",
    "class Person:\n",
    "    def __init__(self, name, age):\n",
    "        self.name = name\n",
    "        self.age = age\n",
    "\n",
    "    def greet(self):\n",
    "        print(f\"Hello, my name is {self.name} and I am {self.age} years old.\")\n",
    "        \n",
    "p = Person(\"John\", 30)\n",
    "p.greet()"
   ]
  },
  {
   "cell_type": "code",
   "execution_count": 20,
   "id": "0ef5c5f0",
   "metadata": {},
   "outputs": [
    {
     "name": "stdout",
     "output_type": "stream",
     "text": [
      "Alice's average grade: 86.25\n"
     ]
    }
   ],
   "source": [
    "#12. Implement a class Student with attributes name and grades. Create a method average_grade() to compute\n",
    "#the average of the grades.\n",
    "\n",
    "class Student:\n",
    "    def __init__(self, name, grades):\n",
    "        self.name = name\n",
    "        self.grades = grades\n",
    "\n",
    "    def average_grade(self):\n",
    "        return sum(self.grades) / len(self.grades) if self.grades else 0    \n",
    "    \n",
    "s = Student(\"Alice\", [85, 90, 78, 92])\n",
    "print(f\"{s.name}'s average grade: {s.average_grade()}\") \n",
    "\n"
   ]
  },
  {
   "cell_type": "code",
   "execution_count": 22,
   "id": "61619486",
   "metadata": {},
   "outputs": [
    {
     "name": "stdout",
     "output_type": "stream",
     "text": [
      "Area of rectangle: 50\n"
     ]
    }
   ],
   "source": [
    "#13. Create a class Rectangle with methods set_dimensions() to set the dimensions and area() to calculate the area.\n",
    "\n",
    "class Rectangle:\n",
    "    def __init__(self):\n",
    "        self.width = 0\n",
    "        self.height = 0\n",
    "\n",
    "    def set_dimensions(self, width, height):\n",
    "        self.width = width\n",
    "        self.height = height\n",
    "\n",
    "    def area(self):\n",
    "        return self.width * self.height \n",
    "    \n",
    "r = Rectangle()\n",
    "r.set_dimensions(5, 10)\n",
    "r.area()\n",
    "print(\"Area of rectangle:\", r.area())"
   ]
  },
  {
   "cell_type": "code",
   "execution_count": 24,
   "id": "918d6b18",
   "metadata": {},
   "outputs": [
    {
     "name": "stdout",
     "output_type": "stream",
     "text": [
      "Employee Salary: 800\n"
     ]
    }
   ],
   "source": [
    "#14. Create a class Employee with a method calculate_salary() that computes the salary based on hours worked and hourly rate. \n",
    "# Create a derived class Manager that adds a bonus to the salary.\n",
    "\n",
    "class Employee:\n",
    "    def __init__(self, hours_worked, hourly_rate):\n",
    "        self.hours_worked = hours_worked\n",
    "        self.hourly_rate = hourly_rate\n",
    "\n",
    "    def calculate_salary(self):\n",
    "        return self.hours_worked * self.hourly_rate\n",
    "    \n",
    "class Manager(Employee):\n",
    "    def __init__(self, hours_worked, hourly_rate, bonus):\n",
    "        super().__init__(hours_worked, hourly_rate)\n",
    "        self.bonus = bonus\n",
    "\n",
    "    def calculate_salary(self):\n",
    "        return super().calculate_salary() + self.bonus\n",
    "    \n",
    "    \n",
    "emp = Employee(40, 20)\n",
    "print(\"Employee Salary:\", emp.calculate_salary())"
   ]
  },
  {
   "cell_type": "code",
   "execution_count": 25,
   "id": "90c98e79",
   "metadata": {},
   "outputs": [
    {
     "name": "stdout",
     "output_type": "stream",
     "text": [
      "Total price of Laptop: $2000\n"
     ]
    }
   ],
   "source": [
    "#15. Create a class Product with attributes name, price, and quantity. Implement a method total_price() that\n",
    "# calculates the total price of the product.\n",
    "\n",
    "class Product:\n",
    "    def __init__(self, name, price, quantity):\n",
    "        self.name = name\n",
    "        self.price = price\n",
    "        self.quantity = quantity\n",
    "\n",
    "    def total_price(self):\n",
    "        return self.price * self.quantity\n",
    "    \n",
    "product = Product(\"Laptop\", 1000, 2)\n",
    "print(f\"Total price of {product.name}: ${product.total_price()}\")   \n"
   ]
  },
  {
   "cell_type": "code",
   "execution_count": 26,
   "id": "033e30b5",
   "metadata": {},
   "outputs": [
    {
     "name": "stdout",
     "output_type": "stream",
     "text": [
      "Cow sound: Moo\n",
      "Sheep sound: Baa\n"
     ]
    }
   ],
   "source": [
    "#16. Create a class Animal with an abstract method sound(). Create two derived classes Cow and Sheep that\n",
    "# implement the sound() method.\n",
    "\n",
    "from abc import ABC, abstractmethod\n",
    "class Animal(ABC):\n",
    "    @abstractmethod\n",
    "    def sound(self):\n",
    "        pass\n",
    "class Cow(Animal):\n",
    "    def sound(self):\n",
    "        return \"Moo\"    \n",
    "class Sheep(Animal):\n",
    "    def sound(self):\n",
    "        return \"Baa\"    \n",
    "cow = Cow()\n",
    "print(\"Cow sound:\", cow.sound())\n",
    "sheep = Sheep()\n",
    "print(\"Sheep sound:\", sheep.sound())        \n"
   ]
  },
  {
   "cell_type": "code",
   "execution_count": 27,
   "id": "9f2dc52a",
   "metadata": {},
   "outputs": [
    {
     "name": "stdout",
     "output_type": "stream",
     "text": [
      "Book Info: 1984 by George Orwell, published in 1949\n"
     ]
    }
   ],
   "source": [
    "#17. Create a class Book with attributes title, author, and year_published. Add a method get_book_info() that \n",
    "# returns a formatted string with the book's details.\n",
    "\n",
    "class Book:\n",
    "    def __init__(self, title, author, year_published):\n",
    "        self.title = title\n",
    "        self.author = author\n",
    "        self.year_published = year_published\n",
    "\n",
    "    def get_book_info(self):\n",
    "        return f\"{self.title} by {self.author}, published in {self.year_published}\"\n",
    "    \n",
    "book = Book(\"1984\", \"George Orwell\", 1949)\n",
    "print(\"Book Info:\", book.get_book_info())"
   ]
  },
  {
   "cell_type": "code",
   "execution_count": 28,
   "id": "025e692e",
   "metadata": {},
   "outputs": [
    {
     "name": "stdout",
     "output_type": "stream",
     "text": [
      "Mansion at 123 Luxury St costs $1000000 and has 10 rooms.\n"
     ]
    }
   ],
   "source": [
    "#18. Create a class House with attributes address and price. Create a derived class Mansion that adds an\n",
    "# attribute number_of_rooms.\n",
    "\n",
    "class House:\n",
    "    def __init__(self, address, price):\n",
    "        self.address = address\n",
    "        self.price = price\n",
    "        \n",
    "class Mansion(House):\n",
    "    def __init__(self, address, price, number_of_rooms):\n",
    "        super().__init__(address, price)\n",
    "        self.number_of_rooms = number_of_rooms\n",
    "        \n",
    "mansion = Mansion(\"123 Luxury St\", 1000000, 10)\n",
    "print(f\"Mansion at {mansion.address} costs ${mansion.price} and has {mansion.number_of_rooms} rooms.\")"
   ]
  }
 ],
 "metadata": {
  "kernelspec": {
   "display_name": "Python 3",
   "language": "python",
   "name": "python3"
  },
  "language_info": {
   "codemirror_mode": {
    "name": "ipython",
    "version": 3
   },
   "file_extension": ".py",
   "mimetype": "text/x-python",
   "name": "python",
   "nbconvert_exporter": "python",
   "pygments_lexer": "ipython3",
   "version": "3.11.9"
  }
 },
 "nbformat": 4,
 "nbformat_minor": 5
}
