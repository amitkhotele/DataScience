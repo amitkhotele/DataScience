{
 "cells": [
  {
   "cell_type": "markdown",
   "id": "58e9d608",
   "metadata": {},
   "source": [
    "# Data Types and Structures Questions\n",
    "\n",
    " 1. What are data structures, and why are they important?\n",
    "    -->Data structures are ways of organizing and storing data so that it can be accessed and modified efficiently. They are important because they enable efficient data management and algorithm implementation.\n",
    "\n",
    " 2. Explain the difference between mutable and immutable data types with examples.\n",
    "    -->Mutable data types can be changed after creation (e.g., lists: [1, 2, 3]), while immutable data types cannot be changed (e.g., tuples: (1, 2, 3), strings: \"abc\").\n",
    "\n",
    " 3. What are the main differences between lists and tuples in Python?\n",
    "    -->Lists are mutable, can be changed after creation, and are defined with []. Tuples are immutable, cannot be changed, and are defined with ().\n",
    "\n",
    " 4. Describe how dictionaries store data.\n",
    "    -->Dictionaries store data as key-value pairs, allowing fast lookup by key.\n",
    "\n",
    " 5. Why might you use a set instead of a list in Python?\n",
    "    -->Sets automatically remove duplicate values and provide fast membership testing.\n",
    "\n",
    " 6. What is a string in Python, and how is it different from a list?\n",
    "    -->A string is an immutable sequence of characters, while a list is a mutable sequence that can contain any data type.\n",
    "\n",
    " 7. How do tuples ensure data integrity in Python?\n",
    "    -->Tuples are immutable, so their contents cannot be changed, ensuring data remains constant.\n",
    "\n",
    " 8. What is a hash table, and how does it relate to dictionaries in Python?\n",
    "    -->A hash table is a data structure that maps keys to values using a hash function. Python dictionaries are implemented as hash tables.\n",
    "\n",
    " 9. Can lists contain different data types in Python?\n",
    "    -->Yes, lists can contain elements of different data types.\n",
    "\n",
    " 10. Explain why strings are immutable in Python.\n",
    "    -->Strings are immutable to improve performance and security, and to allow safe sharing between parts of a program.\n",
    "\n",
    " 11. What advantages do dictionaries offer over lists for certain tasks?\n",
    "    -->Dictionaries provide fast lookup, insertion, and deletion by key, which is more efficient than searching through a list.\n",
    "\n",
    " 12. Describe a scenario where using a tuple would be preferable over a list.\n",
    "    -->Tuples are preferable when you want to ensure data cannot be changed, such as representing fixed coordinates (x, y).\n",
    "\n",
    " 13. How do sets handle duplicate values in Python?\n",
    "    -->Sets automatically remove duplicate values; each element is unique.\n",
    "\n",
    " 14. How does the “in” keyword work differently for lists and dictionaries?\n",
    "    -->For lists, \"in\" checks for the presence of a value. For dictionaries, \"in\" checks for the presence of a key.\n",
    "\n",
    " 15. Can you modify the elements of a tuple? Explain why or why not.\n",
    "    -->No, tuples are immutable; their elements cannot be changed after creation.\n",
    "\n",
    " 16. What is a nested dictionary, and give an example of its use case.\n",
    "    -->A nested dictionary is a dictionary where values are also dictionaries. Example: student_grades = {'Alice': {'Math': 90, 'Science': 85}}\n",
    "\n",
    " 17. Describe the time complexity of accessing elements in a dictionary.\n",
    "    -->Accessing elements by key in a dictionary is O(1) on average.\n",
    "\n",
    " 18. In what situations are lists preferred over dictionaries?\n",
    "    -->Lists are preferred when order matters or when storing sequences of items without unique keys.\n",
    "\n",
    " 19. Why are dictionaries considered unordered, and how does that affect data retrieval?\n",
    "    -->Dictionaries do not maintain insertion order (prior to Python 3.7), so data retrieval by key is fast but not ordered.\n",
    " \n",
    " 20. Explain the difference between a list and a dictionary in terms of data retrieval.\n",
    "    -->Lists retrieve data by index (position), while dictionaries retrieve data by key."
   ]
  },
  {
   "cell_type": "code",
   "execution_count": null,
   "id": "44067509",
   "metadata": {},
   "outputs": [],
   "source": [
    "#Practical Questions"
   ]
  },
  {
   "cell_type": "code",
   "execution_count": 2,
   "id": "2ecbb206",
   "metadata": {},
   "outputs": [
    {
     "name": "stdout",
     "output_type": "stream",
     "text": [
      "Amit Khotele\n"
     ]
    }
   ],
   "source": [
    "#1. Write a code to create a string with your name and print it?\n",
    "\n",
    "name =  \"Amit Khotele\"\n",
    "print(name)"
   ]
  },
  {
   "cell_type": "code",
   "execution_count": 4,
   "id": "03c39c99",
   "metadata": {},
   "outputs": [
    {
     "name": "stdout",
     "output_type": "stream",
     "text": [
      "The length of the string 'Hello World' is: 11\n"
     ]
    }
   ],
   "source": [
    "#2 Write a code to find the length of the string \"Hello World\"\n",
    "string = \"Hello World\"\n",
    "length_of_string = len(string)\n",
    "print(f\"The length of the string '{string}' is: {length_of_string}\")"
   ]
  },
  {
   "cell_type": "code",
   "execution_count": 6,
   "id": "940050c5",
   "metadata": {},
   "outputs": [
    {
     "name": "stdout",
     "output_type": "stream",
     "text": [
      "The first 3 characters of the string 'Python Programming' are: 'Pyt'\n"
     ]
    }
   ],
   "source": [
    "#3. Write a code to slice the first 3 characters from the string \"Python Programming\"\n",
    "\n",
    "str = \"Python Programming\"\n",
    "slice = str[:3]\n",
    "print(f\"The first 3 characters of the string '{str}' are: '{slice}'\")"
   ]
  },
  {
   "cell_type": "code",
   "execution_count": 7,
   "id": "bcab40b2",
   "metadata": {},
   "outputs": [
    {
     "name": "stdout",
     "output_type": "stream",
     "text": [
      "The uppercase version of 'hello' is: 'HELLO'\n"
     ]
    }
   ],
   "source": [
    "#4. Write a code to convert the string \"hello\" to uppercase?\n",
    "\n",
    "a = \"hello\"\n",
    "uppercase_a = a.upper()\n",
    "print(f\"The uppercase version of '{a}' is: '{uppercase_a}'\")"
   ]
  },
  {
   "cell_type": "code",
   "execution_count": 8,
   "id": "fbd6e19e",
   "metadata": {},
   "outputs": [
    {
     "name": "stdout",
     "output_type": "stream",
     "text": [
      "The string after replacing 'apple' with 'orange' is: 'I like orange'\n"
     ]
    }
   ],
   "source": [
    "#5. Write a code to replace the word \"apple\" with \"orange\" in the string \"I like apple\"\n",
    "\n",
    "str = \"I like apple\"\n",
    "replace = str.replace(\"apple\", \"orange\")\n",
    "print(f\"The string after replacing 'apple' with 'orange' is: '{replace}'\")"
   ]
  },
  {
   "cell_type": "code",
   "execution_count": 9,
   "id": "40453d60",
   "metadata": {},
   "outputs": [
    {
     "name": "stdout",
     "output_type": "stream",
     "text": [
      "The list of numbers from 1 to 5 is: [1, 2, 3, 4, 5]\n"
     ]
    }
   ],
   "source": [
    "#6. Write a code to create a list with numbers 1 to 5 and print it\n",
    "\n",
    "numbers = [1, 2, 3, 4, 5]\n",
    "print(f\"The list of numbers from 1 to 5 is: {numbers}\")\n"
   ]
  },
  {
   "cell_type": "code",
   "execution_count": 10,
   "id": "c018d8b5",
   "metadata": {},
   "outputs": [
    {
     "name": "stdout",
     "output_type": "stream",
     "text": [
      "The list after appending 10 is: [1, 2, 3, 4, 10]\n"
     ]
    }
   ],
   "source": [
    "#7. Write a code to append the number 10 to the list [1, 2, 3, 4]\n",
    "\n",
    "numbers = [1, 2, 3, 4]\n",
    "numbers.append(10)\n",
    "print(f\"The list after appending 10 is: {numbers}\")"
   ]
  },
  {
   "cell_type": "code",
   "execution_count": 11,
   "id": "78bd619e",
   "metadata": {},
   "outputs": [
    {
     "name": "stdout",
     "output_type": "stream",
     "text": [
      "The list after removing 3 is: [1, 2, 4, 5]\n"
     ]
    }
   ],
   "source": [
    "#8.Write a code to remove the number 3 from the list [1, 2, 3, 4, 5]\n",
    "\n",
    "numbers = [1, 2, 3, 4, 5]\n",
    "numbers.remove(3)\n",
    "print(f\"The list after removing 3 is: {numbers}\")"
   ]
  },
  {
   "cell_type": "code",
   "execution_count": 12,
   "id": "5640f7f5",
   "metadata": {},
   "outputs": [
    {
     "name": "stdout",
     "output_type": "stream",
     "text": [
      "The second element in the list ['a', 'b', 'c', 'd'] is: 'b'\n"
     ]
    }
   ],
   "source": [
    "#9. Write a code to access the second element in the list ['a', 'b', 'c', 'd']\n",
    "\n",
    "let = ['a', 'b', 'c', 'd']\n",
    "second_element = let[1]\n",
    "print(f\"The second element in the list {let} is: '{second_element}'\")"
   ]
  },
  {
   "cell_type": "code",
   "execution_count": 17,
   "id": "24c63ac8",
   "metadata": {},
   "outputs": [
    {
     "name": "stdout",
     "output_type": "stream",
     "text": [
      "The reversed list is: [50, 40, 30, 20, 10]\n",
      "OR\n",
      "[10, 20, 30, 40, 50]\n"
     ]
    }
   ],
   "source": [
    "#10. Write a code to reverse the list [10, 20, 30, 40, 50]\n",
    "\n",
    "numbers = [10, 20, 30, 40, 50]\n",
    "numbers.reverse()\n",
    "print(f\"The reversed list is: {numbers}\")\n",
    "\n",
    "print(\"OR\")\n",
    "\n",
    "print(numbers[::-1])"
   ]
  },
  {
   "cell_type": "code",
   "execution_count": 18,
   "id": "84ab7401",
   "metadata": {},
   "outputs": [
    {
     "name": "stdout",
     "output_type": "stream",
     "text": [
      "(100, 200, 300)\n"
     ]
    }
   ],
   "source": [
    "#11. Write a code to create a tuple with the elements 100, 200, 300 and print it\n",
    "\n",
    "tuple_elements = (100, 200, 300)\n",
    "print(tuple_elements)"
   ]
  },
  {
   "cell_type": "code",
   "execution_count": 23,
   "id": "dd954351",
   "metadata": {},
   "outputs": [
    {
     "name": "stdout",
     "output_type": "stream",
     "text": [
      "blue\n"
     ]
    }
   ],
   "source": [
    "#12. Write a code to access the second-to-last element of the tuple ('red', 'green', 'blue', 'yellow')\n",
    "\n",
    "colors = ('red', 'green', 'blue', 'yellow')\n",
    "stle = colors[-2]\n",
    "print(stle)"
   ]
  },
  {
   "cell_type": "code",
   "execution_count": 26,
   "id": "28ae59f5",
   "metadata": {},
   "outputs": [
    {
     "name": "stdout",
     "output_type": "stream",
     "text": [
      "The minimum number in the tuple (10, 20, 5, 15) is: 5\n"
     ]
    }
   ],
   "source": [
    "#13. Write a code to find the minimum number in the tuple (10, 20, 5, 15)\n",
    "\n",
    "numbers = (10, 20, 5, 15)\n",
    "min_number = min(numbers)\n",
    "print(f\"The minimum number in the tuple {numbers} is: {min_number}\")"
   ]
  },
  {
   "cell_type": "code",
   "execution_count": 27,
   "id": "9066054c",
   "metadata": {},
   "outputs": [
    {
     "name": "stdout",
     "output_type": "stream",
     "text": [
      "The index of 'cat' in the tuple ('dog', 'cat', 'rabbit') is: 1\n"
     ]
    }
   ],
   "source": [
    "#14. Write a code to find the index of the element \"cat\" in the tuple ('dog', 'cat', 'rabbit')\n",
    "\n",
    "animals = ('dog', 'cat', 'rabbit')\n",
    "index_of_cat = animals.index('cat')\n",
    "print(f\"The index of 'cat' in the tuple {animals} is: {index_of_cat}\")"
   ]
  },
  {
   "cell_type": "code",
   "execution_count": 29,
   "id": "9335b592",
   "metadata": {},
   "outputs": [
    {
     "name": "stdout",
     "output_type": "stream",
     "text": [
      "False\n"
     ]
    }
   ],
   "source": [
    "#15.  Write a code to create a tuple containing three different fruits and check if \"kiwi\" is in it\n",
    "\n",
    "fruits = ('apple', 'banana', 'orange')\n",
    "a = 'kiwi' in fruits\n",
    "print(a)"
   ]
  },
  {
   "cell_type": "code",
   "execution_count": 31,
   "id": "0f9c45f2",
   "metadata": {},
   "outputs": [
    {
     "name": "stdout",
     "output_type": "stream",
     "text": [
      "{'b', 'c', 'a'}\n"
     ]
    }
   ],
   "source": [
    "#16. Write a code to create a set with the elements 'a', 'b', 'c' and print it\n",
    "\n",
    "my_set = {'a', 'b', 'c'}\n",
    "print(my_set)"
   ]
  },
  {
   "cell_type": "code",
   "execution_count": 33,
   "id": "65a11827",
   "metadata": {},
   "outputs": [
    {
     "name": "stdout",
     "output_type": "stream",
     "text": [
      "set()\n"
     ]
    }
   ],
   "source": [
    "#17. Write a code to clear all elements from the set {1, 2, 3, 4, 5}\n",
    "\n",
    "my_set = {1, 2, 3, 4, 5}\n",
    "my_set.clear()\n",
    "print(my_set)"
   ]
  },
  {
   "cell_type": "code",
   "execution_count": 36,
   "id": "8a22663e",
   "metadata": {},
   "outputs": [
    {
     "name": "stdout",
     "output_type": "stream",
     "text": [
      "{1, 2, 3}\n"
     ]
    }
   ],
   "source": [
    "#18.  Write a code to remove the element 4 from the set {1, 2, 3, 4}\n",
    "\n",
    "set1 = {1, 2, 3, 4}\n",
    "set1.remove(4)\n",
    "print(set1)"
   ]
  },
  {
   "cell_type": "code",
   "execution_count": 37,
   "id": "cedf4e14",
   "metadata": {},
   "outputs": [
    {
     "name": "stdout",
     "output_type": "stream",
     "text": [
      "{1, 2, 3, 4, 5}\n"
     ]
    }
   ],
   "source": [
    "#19. Write a code to find the union of two sets {1, 2, 3} and {3, 4, 5}\n",
    "\n",
    "a = {1, 2, 3}\n",
    "b = {3, 4, 5}\n",
    "union_set = a.union(b)\n",
    "print(union_set)"
   ]
  },
  {
   "cell_type": "code",
   "execution_count": 39,
   "id": "6db06ce1",
   "metadata": {},
   "outputs": [
    {
     "name": "stdout",
     "output_type": "stream",
     "text": [
      "{2, 3}\n"
     ]
    }
   ],
   "source": [
    "#20. Write a code to find the intersection of two sets {1, 2, 3} and {2, 3, 4}\n",
    "\n",
    "a = {1, 2, 3}\n",
    "b = {2, 3, 4}\n",
    "intersection_set = a.intersection(b)\n",
    "print(intersection_set)"
   ]
  },
  {
   "cell_type": "code",
   "execution_count": 41,
   "id": "2de18117",
   "metadata": {},
   "outputs": [
    {
     "name": "stdout",
     "output_type": "stream",
     "text": [
      "{'name': 'Amit Khotele', 'age': 20, 'city': 'Nagpur'}\n"
     ]
    }
   ],
   "source": [
    "#21.  Write a code to create a dictionary with the keys \"name\", \"age\", and \"city\", and print it\n",
    "\n",
    "my_dict = {\n",
    "    \"name\": \"Amit Khotele\",\n",
    "    \"age\": 20,\n",
    "    \"city\": \"Nagpur\"\n",
    "}\n",
    "print(my_dict)"
   ]
  },
  {
   "cell_type": "code",
   "execution_count": 42,
   "id": "cc754467",
   "metadata": {},
   "outputs": [
    {
     "name": "stdout",
     "output_type": "stream",
     "text": [
      "{'name': 'John', 'age': 25, 'country': 'USA'}\n"
     ]
    }
   ],
   "source": [
    "#22. Write a code to add a new key-value pair \"country\": \"USA\" to the dictionary {'name': 'John', 'age': 25}\n",
    "\n",
    "my_dict = {'name': 'John', 'age': 25}\n",
    "my_dict['country'] = 'USA'\n",
    "print(my_dict)"
   ]
  },
  {
   "cell_type": "code",
   "execution_count": 43,
   "id": "bf4ee38b",
   "metadata": {},
   "outputs": [
    {
     "name": "stdout",
     "output_type": "stream",
     "text": [
      "Alice\n"
     ]
    }
   ],
   "source": [
    "#23.  Write a code to access the value associated with the key \"name\" in the dictionary {'name': 'Alice', 'age': 30}\n",
    "\n",
    "my_dict = {'name': 'Alice', 'age': 30}\n",
    "name_value = my_dict['name']\n",
    "print(name_value)"
   ]
  },
  {
   "cell_type": "code",
   "execution_count": 44,
   "id": "041402bd",
   "metadata": {},
   "outputs": [
    {
     "name": "stdout",
     "output_type": "stream",
     "text": [
      "{'name': 'Bob', 'city': 'New York'}\n"
     ]
    }
   ],
   "source": [
    "#24.  Write a code to remove the key \"age\" from the dictionary {'name': 'Bob', 'age': 22, 'city': 'New York'}\n",
    "\n",
    "my_dict = {'name': 'Bob', 'age': 22, 'city': 'New York'}\n",
    "del my_dict['age']\n",
    "print(my_dict)"
   ]
  },
  {
   "cell_type": "code",
   "execution_count": 45,
   "id": "9bd2eb9c",
   "metadata": {},
   "outputs": [
    {
     "name": "stdout",
     "output_type": "stream",
     "text": [
      "True\n"
     ]
    }
   ],
   "source": [
    "#25. Write a code to check if the key \"city\" exists in the dictionary {'name': 'Alice', 'city': 'Paris'}\n",
    "\n",
    "my_dict = {'name': 'Alice', 'city': 'Paris'}\n",
    "key_exists = 'city' in my_dict\n",
    "print(key_exists)"
   ]
  },
  {
   "cell_type": "code",
   "execution_count": 47,
   "id": "7c01d557",
   "metadata": {},
   "outputs": [
    {
     "name": "stdout",
     "output_type": "stream",
     "text": [
      "List: [1, 2, 3, 4, 5]\n",
      "Tuple: (10, 20, 30)\n",
      "Dictionary: {'name': 'Amit', 'age': 20}\n"
     ]
    }
   ],
   "source": [
    "#26. Write a code to create a list, a tuple, and a dictionary, and print them all\n",
    "\n",
    "my_list = [1, 2, 3, 4, 5]\n",
    "my_tuple = (10, 20, 30)\n",
    "my_dict = {'name': 'Amit', 'age': 20}\n",
    "print(\"List:\", my_list)\n",
    "print(\"Tuple:\", my_tuple)\n",
    "print(\"Dictionary:\", my_dict)"
   ]
  },
  {
   "cell_type": "code",
   "execution_count": 48,
   "id": "f1bc12ba",
   "metadata": {},
   "outputs": [
    {
     "name": "stdout",
     "output_type": "stream",
     "text": [
      "Sorted list of random numbers: [6, 28, 46, 74, 76]\n"
     ]
    }
   ],
   "source": [
    "#27.  Write a code to create a list of 5 random numbers between 1 and 100, sort it in ascending order, and print the\n",
    "#result.(replaced)\n",
    "\n",
    "import random\n",
    "my_list = random.sample(range(1, 101), 5)\n",
    "my_list.sort()\n",
    "print(\"Sorted list of random numbers:\", my_list)"
   ]
  },
  {
   "cell_type": "code",
   "execution_count": 49,
   "id": "ba79b3c1",
   "metadata": {},
   "outputs": [
    {
     "name": "stdout",
     "output_type": "stream",
     "text": [
      "date\n"
     ]
    }
   ],
   "source": [
    "#28. Write a code to create a list with strings and print the element at the third index\n",
    "\n",
    "my_list = [\"apple\", \"banana\", \"cherry\", \"date\", \"elderberry\"]\n",
    "element = my_list[3]\n",
    "print(element)"
   ]
  },
  {
   "cell_type": "code",
   "execution_count": 50,
   "id": "faa87b2f",
   "metadata": {},
   "outputs": [
    {
     "name": "stdout",
     "output_type": "stream",
     "text": [
      "{'name': 'Alice', 'age': 30, 'city': 'New York', 'country': 'USA'}\n"
     ]
    }
   ],
   "source": [
    "#29.  Write a code to combine two dictionaries into one and print the result\n",
    "\n",
    "dict1 = {'name': 'Alice', 'age': 30}\n",
    "dict2 = {'city': 'New York', 'country': 'USA'}\n",
    "combined_dict = {**dict1, **dict2}\n",
    "print(combined_dict)"
   ]
  },
  {
   "cell_type": "code",
   "execution_count": 51,
   "id": "79339ec9",
   "metadata": {},
   "outputs": [
    {
     "name": "stdout",
     "output_type": "stream",
     "text": [
      "{'cherry', 'banana', 'apple'}\n"
     ]
    }
   ],
   "source": [
    "#30. Write a code to convert a list of strings into a set\n",
    "\n",
    "my_list = [\"apple\", \"banana\", \"cherry\", \"apple\"]\n",
    "my_set = set(my_list)\n",
    "print(my_set)"
   ]
  }
 ],
 "metadata": {
  "kernelspec": {
   "display_name": "Python 3",
   "language": "python",
   "name": "python3"
  },
  "language_info": {
   "codemirror_mode": {
    "name": "ipython",
    "version": 3
   },
   "file_extension": ".py",
   "mimetype": "text/x-python",
   "name": "python",
   "nbconvert_exporter": "python",
   "pygments_lexer": "ipython3",
   "version": "3.11.9"
  }
 },
 "nbformat": 4,
 "nbformat_minor": 5
}
