{
 "cells": [
  {
   "cell_type": "markdown",
   "id": "ca72f76d",
   "metadata": {},
   "source": [
    "1. What is Python, and why is it popular?\n",
    "    Python is a high-level programming language. It's very popular because it's easy to learn, has clean syntax like English, and supports many fields like web development, machine learning, data science, etc. Also, its huge library support makes it powerful.\n",
    "\n",
    "2. What is an interpreter in Python?\n",
    "    Interpreter is something that runs the Python code line by line. It reads the code and executes it one step at a time. So it's helpful in finding errors easily.\n",
    "\n",
    "3. What are pre-defined keywords in Python?\n",
    "    These are special words which Python already uses for specific work. Like if, else, while, def, True, None etc. We can’t use them as variable names.\n",
    "\n",
    "4. Can keywords be used as variable names?\n",
    "    No, we can’t use them. Because they are reserved by Python for special use. If we try to use them, it will give error.\n",
    "\n",
    "5. What is mutability in Python?\n",
    "    Mutability means whether a value or object can be changed after creating it. If it can change, it is mutable. If not, then it is immutable.\n",
    "\n",
    "6. Why are lists mutable but tuples are immutable?\n",
    "    Lists are made for storing changeable data, like we can add or remove things anytime. But tuples are fixed, once created we can’t change them. It helps to protect data.\n",
    "\n",
    "7. What is the difference between == and is operators in Python?\n",
    "    == checks if two values are same.\n",
    "     is checks if both variables are pointing to same object in memory.\n",
    "     Example:\n",
    "    a = [1,2]\n",
    "    b = [1,2]\n",
    "    a == b  # True  \n",
    "    a is b  # False\n",
    "\n",
    "8. What are logical operators in Python?\n",
    "    They are used to combine conditions.\n",
    "    and: True if both conditions are true\n",
    "    or: True if any one condition is true\n",
    "    not: reverses the condition\n",
    "\n",
    "9. What is type casting in Python?\n",
    "    It means converting one data type to another. Like from string to int, or int to float, etc.\n",
    "    Example: int(\"5\") changes string to integer.\n",
    "\n",
    "10. What is the difference between implicit and explicit type casting?\n",
    "    Implicit is done by Python automatically.\n",
    "    Explicit is done by us manually using functions like int(), float(), etc.\n",
    "    Example:\n",
    "    a = 5\n",
    "    b = 2.5\n",
    "    c = a + b  # implicit (Python makes a float)\n",
    "\n",
    "    x = \"10\"\n",
    "    y = int(x)  # explicit\n",
    "\n",
    "11. What is the purpose of conditional statements in Python?\n",
    "    They help to make decisions in program. Based on conditions, we can run different blocks of code using if, elif, and else.\n",
    "\n",
    "12. How does the elif statement work?\n",
    "    elif means \"else if\". We use it when we want to check multiple conditions one by one. If first condition is false, then it checks the next elif.\n",
    "\n",
    "13. What is the difference between for and while loops?\n",
    "    for loop is used when we know how many times we want to run something.\n",
    "    while loop is used when we don’t know how many times, but only have a condition.\n",
    "\n",
    "14. Describe a scenario where a while loop is more suitable than a for loop.\n",
    "    If we want to keep asking user to type password until they type correct one, then while is better. Because we don’t know how many times they will try.\n",
    "\n"
   ]
  },
  {
   "cell_type": "markdown",
   "id": "723f95e5",
   "metadata": {},
   "source": [
    "Practical Coding Questions Below:"
   ]
  },
  {
   "cell_type": "code",
   "execution_count": 1,
   "id": "0556e892",
   "metadata": {},
   "outputs": [
    {
     "name": "stdout",
     "output_type": "stream",
     "text": [
      "Hello, World!\n"
     ]
    }
   ],
   "source": [
    "# 1. Program to print \"Hello, World!\"\n",
    "print(\"Hello, World!\")"
   ]
  },
  {
   "cell_type": "code",
   "execution_count": 2,
   "id": "85a967fe",
   "metadata": {},
   "outputs": [
    {
     "name": "stdout",
     "output_type": "stream",
     "text": [
      "My name is Amit\n",
      "I am 21 years old\n"
     ]
    }
   ],
   "source": [
    "#2. Program that displays your name and age\n",
    "\n",
    "name = \"Amit\"\n",
    "age = 21\n",
    "print(\"My name is\", name)\n",
    "print(\"I am\", age, \"years old\")"
   ]
  },
  {
   "cell_type": "code",
   "execution_count": 3,
   "id": "ab1197fc",
   "metadata": {},
   "outputs": [
    {
     "name": "stdout",
     "output_type": "stream",
     "text": [
      "Python Keywords are:\n",
      "['False', 'None', 'True', 'and', 'as', 'assert', 'async', 'await', 'break', 'class', 'continue', 'def', 'del', 'elif', 'else', 'except', 'finally', 'for', 'from', 'global', 'if', 'import', 'in', 'is', 'lambda', 'nonlocal', 'not', 'or', 'pass', 'raise', 'return', 'try', 'while', 'with', 'yield']\n"
     ]
    }
   ],
   "source": [
    "#3. Code to print all pre-defined keywords using keyword library\n",
    "\n",
    "import keyword\n",
    "\n",
    "print(\"Python Keywords are:\")\n",
    "print(keyword.kwlist)"
   ]
  },
  {
   "cell_type": "code",
   "execution_count": 5,
   "id": "41095c30",
   "metadata": {},
   "outputs": [
    {
     "name": "stdout",
     "output_type": "stream",
     "text": [
      "True is a Python keyword.\n"
     ]
    }
   ],
   "source": [
    "#4. Program to check if a given word is a Python keyword\n",
    "\n",
    "import keyword\n",
    "\n",
    "word = input(\"Enter a word: \")\n",
    "if keyword.iskeyword(word):\n",
    "    print(word, \"is a Python keyword.\")\n",
    "else:\n",
    "    print(word, \"is not a Python keyword.\")"
   ]
  },
  {
   "cell_type": "code",
   "execution_count": 8,
   "id": "200a73fb",
   "metadata": {},
   "outputs": [
    {
     "name": "stdout",
     "output_type": "stream",
     "text": [
      "Updated list: [99, 20, 30]\n",
      "Tuple remains same: (10, 20, 30)\n"
     ]
    }
   ],
   "source": [
    "#5. Create list and tuple, show difference in mutability\n",
    "\n",
    "my_list = [10, 20, 30]\n",
    "my_tuple = (10, 20, 30)\n",
    "my_list[0] = 99\n",
    "print(\"Updated list:\", my_list)\n",
    "print(\"Tuple remains same:\", my_tuple)"
   ]
  },
  {
   "cell_type": "code",
   "execution_count": 9,
   "id": "1ae5c747",
   "metadata": {},
   "outputs": [
    {
     "name": "stdout",
     "output_type": "stream",
     "text": [
      "x = 10\n",
      "y = [1, 2, 3, 4]\n"
     ]
    }
   ],
   "source": [
    "#6. Function to show mutable and immutable arguments\n",
    "\n",
    "def modify(num, lst):\n",
    "    num += 1\n",
    "    lst.append(4)  \n",
    "\n",
    "x = 10\n",
    "y = [1, 2, 3]\n",
    "modify(x, y)\n",
    "print(\"x =\", x)\n",
    "print(\"y =\", y) "
   ]
  },
  {
   "cell_type": "code",
   "execution_count": 10,
   "id": "f6aaa19a",
   "metadata": {},
   "outputs": [
    {
     "name": "stdout",
     "output_type": "stream",
     "text": [
      "Addition: 5.0\n",
      "Subtraction: -1.0\n",
      "Multiplication: 6.0\n",
      "Division: 0.6666666666666666\n"
     ]
    }
   ],
   "source": [
    "#7. Basic arithmetic operations on two user inputs\n",
    "\n",
    "a = float(input(\"Enter first number: \"))\n",
    "b = float(input(\"Enter second number: \"))\n",
    "\n",
    "print(\"Addition:\", a + b)\n",
    "print(\"Subtraction:\", a - b)\n",
    "print(\"Multiplication:\", a * b)\n",
    "print(\"Division:\", a / b)"
   ]
  },
  {
   "cell_type": "code",
   "execution_count": 11,
   "id": "1b85dd92",
   "metadata": {},
   "outputs": [
    {
     "name": "stdout",
     "output_type": "stream",
     "text": [
      "Number is between 1 and 99\n"
     ]
    }
   ],
   "source": [
    "#8. Program using logical operators\n",
    "\n",
    "x = int(input(\"Enter a number: \"))\n",
    "if x > 0 and x < 100:\n",
    "    print(\"Number is between 1 and 99\")\n",
    "elif x < 0 or x > 100:\n",
    "    print(\"Number is out of range\")\n",
    "else:\n",
    "    print(\"Number is either 0 or 100\")"
   ]
  },
  {
   "cell_type": "code",
   "execution_count": 12,
   "id": "d977f36b",
   "metadata": {},
   "outputs": [
    {
     "name": "stdout",
     "output_type": "stream",
     "text": [
      "As integer: 2\n",
      "As float: 2.0\n",
      "As boolean: True\n"
     ]
    }
   ],
   "source": [
    "#9. Convert input to int, float, and bool\n",
    "\n",
    "s = input(\"Enter something: \")\n",
    "\n",
    "i = int(s)\n",
    "f = float(s)\n",
    "b = bool(s)\n",
    "\n",
    "print(\"As integer:\", i)\n",
    "print(\"As float:\", f)\n",
    "print(\"As boolean:\", b)"
   ]
  },
  {
   "cell_type": "code",
   "execution_count": 13,
   "id": "0027897d",
   "metadata": {},
   "outputs": [
    {
     "name": "stdout",
     "output_type": "stream",
     "text": [
      "Original list: ['1', '2', '3']\n",
      "Converted to integers: [1, 2, 3]\n"
     ]
    }
   ],
   "source": [
    "#10. Type casting with list elements\n",
    "\n",
    "my_list = [\"1\", \"2\", \"3\"]\n",
    "int_list = [int(x) for x in my_list]\n",
    "\n",
    "print(\"Original list:\", my_list)\n",
    "print(\"Converted to integers:\", int_list)"
   ]
  },
  {
   "cell_type": "code",
   "execution_count": 14,
   "id": "8e5615d9",
   "metadata": {},
   "outputs": [
    {
     "name": "stdout",
     "output_type": "stream",
     "text": [
      "Positive number\n"
     ]
    }
   ],
   "source": [
    "#11. Check if number is +ve, -ve or zero\n",
    "\n",
    "n = int(input(\"Enter a number: \"))\n",
    "\n",
    "if n > 0:\n",
    "    print(\"Positive number\")\n",
    "elif n < 0:\n",
    "    print(\"Negative number\")\n",
    "else:\n",
    "    print(\"Number is zero\")"
   ]
  },
  {
   "cell_type": "code",
   "execution_count": 15,
   "id": "b69163b0",
   "metadata": {},
   "outputs": [
    {
     "name": "stdout",
     "output_type": "stream",
     "text": [
      "1\n",
      "2\n",
      "3\n",
      "4\n",
      "5\n",
      "6\n",
      "7\n",
      "8\n",
      "9\n",
      "10\n"
     ]
    }
   ],
   "source": [
    "#12. For loop to print 1 to 10\n",
    "\n",
    "for i in range(1, 11):\n",
    "    print(i)"
   ]
  },
  {
   "cell_type": "code",
   "execution_count": 16,
   "id": "56347380",
   "metadata": {},
   "outputs": [
    {
     "name": "stdout",
     "output_type": "stream",
     "text": [
      "Sum of even numbers from 1 to 50 is: 650\n"
     ]
    }
   ],
   "source": [
    "#13. Sum of even numbers between 1 and 50\n",
    "\n",
    "sum = 0\n",
    "for i in range(2, 51, 2):\n",
    "    sum += i\n",
    "print(\"Sum of even numbers from 1 to 50 is:\", sum)"
   ]
  },
  {
   "cell_type": "code",
   "execution_count": 17,
   "id": "ff89682f",
   "metadata": {},
   "outputs": [
    {
     "name": "stdout",
     "output_type": "stream",
     "text": [
      "Reversed string: tima\n"
     ]
    }
   ],
   "source": [
    "#14. Reverse a string using while loop\n",
    "\n",
    "text = input(\"Enter a string: \")\n",
    "i = len(text) - 1\n",
    "rev = \"\"\n",
    "\n",
    "while i >= 0:\n",
    "    rev += text[i]\n",
    "    i -= 1\n",
    "\n",
    "print(\"Reversed string:\", rev)"
   ]
  },
  {
   "cell_type": "code",
   "execution_count": 18,
   "id": "645155be",
   "metadata": {},
   "outputs": [
    {
     "name": "stdout",
     "output_type": "stream",
     "text": [
      "Factorial of 5 is 120\n"
     ]
    }
   ],
   "source": [
    "#15. Factorial of a number using while loop\n",
    "\n",
    "n = int(input(\"Enter a number: \"))\n",
    "fact = 1\n",
    "i = 1\n",
    "\n",
    "while i <= n:\n",
    "    fact *= i\n",
    "    i += 1\n",
    "\n",
    "print(\"Factorial of\", n, \"is\", fact)"
   ]
  }
 ],
 "metadata": {
  "kernelspec": {
   "display_name": "Python 3",
   "language": "python",
   "name": "python3"
  },
  "language_info": {
   "codemirror_mode": {
    "name": "ipython",
    "version": 3
   },
   "file_extension": ".py",
   "mimetype": "text/x-python",
   "name": "python",
   "nbconvert_exporter": "python",
   "pygments_lexer": "ipython3",
   "version": "3.11.9"
  }
 },
 "nbformat": 4,
 "nbformat_minor": 5
}
