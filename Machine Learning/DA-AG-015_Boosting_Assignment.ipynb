{
 "cells": [
  {
   "cell_type": "markdown",
   "id": "8776b0aa",
   "metadata": {},
   "source": [
    "## Question 1\n",
    "**What is Boosting in Machine Learning? Explain how it improves weak learners.**\n",
    "\n",
    "**Answer:**\n",
    "\n",
    "Boosting is an ensemble technique that sequentially trains a series of weak learners (often shallow decision trees) where each new learner attempts to correct the errors made by the previous learners. The predictions of the weak learners are combined (usually via a weighted sum or majority voting) to form a strong learner.\n",
    "\n",
    "- The key idea: focus subsequent learners on examples misclassified or with high residual error so that the ensemble reduces both bias and variance.\n",
    "- Examples: AdaBoost (reweights samples), Gradient Boosting (fits new learners to the negative gradient of loss), XGBoost/LightGBM/CatBoost (optimized, regularized implementations).\n",
    "- Why it improves weak learners: each learner addresses mistakes of earlier ones; combined, they capture complex patterns that single weak learners cannot.\n"
   ]
  },
  {
   "cell_type": "markdown",
   "id": "249de729",
   "metadata": {},
   "source": [
    "## Question 2\n",
    "**What is the difference between AdaBoost and Gradient Boosting in terms of how models are trained?**\n",
    "\n",
    "**Answer:**\n",
    "\n",
    "- **AdaBoost:** Adjusts sample weights after each weak learner. Misclassified samples receive higher weights so the next learner focuses more on them. Final prediction is a weighted vote of weak learners.\n",
    "- **Gradient Boosting:** Fits each new learner to the negative gradient (residual errors) of the loss function with respect to the current ensemble predictions. It is framed as numerical optimization in function space.\n",
    "\n",
    "In short: AdaBoost manipulates sample weights directly; Gradient Boosting optimizes a differentiable loss by fitting residuals.\n"
   ]
  },
  {
   "cell_type": "markdown",
   "id": "538ad5fd",
   "metadata": {},
   "source": [
    "## Question 3\n",
    "**How does regularization help in XGBoost?**\n",
    "\n",
    "**Answer:**\n",
    "\n",
    "XGBoost includes both L1 (alpha) and L2 (lambda) regularization on leaf weights, along with other regularization strategies (tree depth limits, min_child_weight, subsample, colsample_bytree). Regularization:\n",
    "- Prevents overfitting by penalizing complex trees and large leaf weights.\n",
    "- Encourages simpler models that generalize better.\n",
    "- Combined with shrinkage (learning_rate) and column/row subsampling, it makes boosting more robust on noisy data.\n"
   ]
  },
  {
   "cell_type": "markdown",
   "id": "ff4b80dd",
   "metadata": {},
   "source": [
    "## Question 4\n",
    "**Why is CatBoost considered efficient for handling categorical data?**\n",
    "\n",
    "**Answer:**\n",
    "\n",
    "CatBoost handles categorical features natively without requiring one-hot encoding. It uses techniques like target-based statistics with ordered boosting to avoid target leakage and implements efficient encoding schemes. Benefits:\n",
    "- Avoids high-dimensional sparse encodings.\n",
    "- Reduces target leakage using permutations and ordered target statistics.\n",
    "- Often requires less preprocessing and yields strong baseline performance on datasets with many categorical variables.\n"
   ]
  },
  {
   "cell_type": "markdown",
   "id": "5e89802b",
   "metadata": {},
   "source": [
    "## Question 5\n",
    "**What are some real-world applications where boosting techniques are preferred over bagging methods?**\n",
    "\n",
    "**Answer:**\n",
    "\n",
    "Boosting is preferred when strong predictive accuracy is critical and you can tolerate longer training times. Applications include:\n",
    "- Credit scoring and fraud detection (tabular data with mixed types)\n",
    "- Click-through rate (CTR) prediction and advertising\n",
    "- Medical diagnosis where high accuracy is required\n",
    "- Time series forecasting (with appropriate feature engineering)\n",
    "\n",
    "Boosting often outperforms bagging (e.g., Random Forests) on structured tabular datasets.\n"
   ]
  },
  {
   "cell_type": "markdown",
   "id": "04ace61b",
   "metadata": {},
   "source": [
    "---\n",
    "\n",
    "# Practical section — Datasets & Experiments\n",
    "\n",
    "Datasets used:\n",
    "- Classification: `sklearn.datasets.load_breast_cancer()`\n",
    "- Regression: `sklearn.datasets.fetch_california_housing()`\n",
    "\n",
    "The notebook includes code for Q6–Q9 and a pipeline explanation and demo for Q10.\n",
    "\n",
    "Run cells sequentially to reproduce results.\n"
   ]
  },
  {
   "cell_type": "code",
   "execution_count": 2,
   "id": "97cffd18",
   "metadata": {},
   "outputs": [
    {
     "name": "stdout",
     "output_type": "stream",
     "text": [
      "Breast cancer shape: (569, 30)\n",
      "California housing shape: (20640, 8)\n"
     ]
    }
   ],
   "source": [
    "# Q6-Q9 setup: imports and dataset loading\n",
    "import numpy as np\n",
    "import pandas as pd\n",
    "from sklearn.datasets import load_breast_cancer, fetch_california_housing\n",
    "from sklearn.model_selection import train_test_split, GridSearchCV\n",
    "from sklearn.ensemble import AdaBoostClassifier, GradientBoostingRegressor\n",
    "from sklearn.metrics import accuracy_score, r2_score, classification_report, confusion_matrix\n",
    "import matplotlib.pyplot as plt\n",
    "import seaborn as sns\n",
    "\n",
    "# Load datasets\n",
    "breast = load_breast_cancer()\n",
    "X_clf = breast.data\n",
    "y_clf = breast.target\n",
    "\n",
    "cal = fetch_california_housing()\n",
    "X_reg = cal.data\n",
    "y_reg = cal.target\n",
    "\n",
    "print('Breast cancer shape:', X_clf.shape)\n",
    "print('California housing shape:', X_reg.shape)\n"
   ]
  },
  {
   "cell_type": "code",
   "execution_count": 3,
   "id": "8fc0b303",
   "metadata": {},
   "outputs": [
    {
     "name": "stdout",
     "output_type": "stream",
     "text": [
      "AdaBoost accuracy on Breast Cancer test set: 0.9650\n",
      "\n",
      "Classification report:\n",
      "              precision    recall  f1-score   support\n",
      "\n",
      "           0       0.98      0.92      0.95        53\n",
      "           1       0.96      0.99      0.97        90\n",
      "\n",
      "    accuracy                           0.97       143\n",
      "   macro avg       0.97      0.96      0.96       143\n",
      "weighted avg       0.97      0.97      0.96       143\n",
      "\n"
     ]
    }
   ],
   "source": [
    "# Q6: Train an AdaBoost Classifier on the Breast Cancer dataset and print accuracy\n",
    "from sklearn.preprocessing import StandardScaler\n",
    "\n",
    "# Train-test split\n",
    "X_train, X_test, y_train, y_test = train_test_split(X_clf, y_clf, test_size=0.25, stratify=y_clf, random_state=42)\n",
    "\n",
    "# Scale features (AdaBoost works fine without scaling but it's good practice)\n",
    "scaler = StandardScaler().fit(X_train)\n",
    "X_train_s = scaler.transform(X_train)\n",
    "X_test_s = scaler.transform(X_test)\n",
    "\n",
    "adb = AdaBoostClassifier(n_estimators=50, random_state=42)\n",
    "adb.fit(X_train_s, y_train)\n",
    "\n",
    "y_pred = adb.predict(X_test_s)\n",
    "acc = accuracy_score(y_test, y_pred)\n",
    "print('AdaBoost accuracy on Breast Cancer test set: {:.4f}'.format(acc))\n",
    "print('\\nClassification report:')\n",
    "print(classification_report(y_test, y_pred))\n"
   ]
  },
  {
   "cell_type": "code",
   "execution_count": 4,
   "id": "1164c89a",
   "metadata": {},
   "outputs": [
    {
     "name": "stdout",
     "output_type": "stream",
     "text": [
      "Gradient Boosting R^2 on California Housing test set: 0.7812\n"
     ]
    }
   ],
   "source": [
    "# Q7: Train a Gradient Boosting Regressor on the California Housing dataset and evaluate R^2\n",
    "from sklearn.ensemble import GradientBoostingRegressor\n",
    "from sklearn.metrics import r2_score\n",
    "\n",
    "X_train_r, X_test_r, y_train_r, y_test_r = train_test_split(X_reg, y_reg, test_size=0.25, random_state=42)\n",
    "scaler_r = StandardScaler().fit(X_train_r)\n",
    "X_train_r_s = scaler_r.transform(X_train_r)\n",
    "X_test_r_s = scaler_r.transform(X_test_r)\n",
    "\n",
    "gbr = GradientBoostingRegressor(n_estimators=100, learning_rate=0.1, random_state=42)\n",
    "gbr.fit(X_train_r_s, y_train_r)\n",
    "\n",
    "y_pred_r = gbr.predict(X_test_r_s)\n",
    "print('Gradient Boosting R^2 on California Housing test set: {:.4f}'.format(r2_score(y_test_r, y_pred_r)))\n"
   ]
  },
  {
   "cell_type": "code",
   "execution_count": 7,
   "id": "7c4a74db",
   "metadata": {},
   "outputs": [
    {
     "name": "stdout",
     "output_type": "stream",
     "text": [
      "Defaulting to user installation because normal site-packages is not writeable\n",
      "Collecting xgboost\n",
      "  Downloading xgboost-3.1.0-py3-none-win_amd64.whl.metadata (2.1 kB)\n",
      "Collecting catboost\n",
      "  Downloading catboost-1.2.8-cp313-cp313-win_amd64.whl.metadata (1.5 kB)\n",
      "Requirement already satisfied: numpy in c:\\users\\amitk\\appdata\\roaming\\python\\python313\\site-packages (from xgboost) (2.2.5)\n",
      "Requirement already satisfied: scipy in c:\\users\\amitk\\appdata\\roaming\\python\\python313\\site-packages (from xgboost) (1.15.3)\n",
      "Collecting graphviz (from catboost)\n",
      "  Downloading graphviz-0.21-py3-none-any.whl.metadata (12 kB)\n",
      "Requirement already satisfied: matplotlib in c:\\users\\amitk\\appdata\\roaming\\python\\python313\\site-packages (from catboost) (3.10.3)\n",
      "Requirement already satisfied: pandas>=0.24 in c:\\users\\amitk\\appdata\\roaming\\python\\python313\\site-packages (from catboost) (2.2.3)\n",
      "Requirement already satisfied: plotly in c:\\users\\amitk\\appdata\\roaming\\python\\python313\\site-packages (from catboost) (6.2.0)\n",
      "Requirement already satisfied: six in c:\\users\\amitk\\appdata\\roaming\\python\\python313\\site-packages (from catboost) (1.17.0)\n",
      "Requirement already satisfied: python-dateutil>=2.8.2 in c:\\users\\amitk\\appdata\\roaming\\python\\python313\\site-packages (from pandas>=0.24->catboost) (2.9.0.post0)\n",
      "Requirement already satisfied: pytz>=2020.1 in c:\\users\\amitk\\appdata\\roaming\\python\\python313\\site-packages (from pandas>=0.24->catboost) (2025.2)\n",
      "Requirement already satisfied: tzdata>=2022.7 in c:\\users\\amitk\\appdata\\roaming\\python\\python313\\site-packages (from pandas>=0.24->catboost) (2025.2)\n",
      "Requirement already satisfied: contourpy>=1.0.1 in c:\\users\\amitk\\appdata\\roaming\\python\\python313\\site-packages (from matplotlib->catboost) (1.3.2)\n",
      "Requirement already satisfied: cycler>=0.10 in c:\\users\\amitk\\appdata\\roaming\\python\\python313\\site-packages (from matplotlib->catboost) (0.12.1)\n",
      "Requirement already satisfied: fonttools>=4.22.0 in c:\\users\\amitk\\appdata\\roaming\\python\\python313\\site-packages (from matplotlib->catboost) (4.59.0)\n",
      "Requirement already satisfied: kiwisolver>=1.3.1 in c:\\users\\amitk\\appdata\\roaming\\python\\python313\\site-packages (from matplotlib->catboost) (1.4.8)\n",
      "Requirement already satisfied: packaging>=20.0 in c:\\users\\amitk\\appdata\\roaming\\python\\python313\\site-packages (from matplotlib->catboost) (25.0)\n",
      "Requirement already satisfied: pillow>=8 in c:\\users\\amitk\\appdata\\roaming\\python\\python313\\site-packages (from matplotlib->catboost) (11.2.1)\n",
      "Requirement already satisfied: pyparsing>=2.3.1 in c:\\users\\amitk\\appdata\\roaming\\python\\python313\\site-packages (from matplotlib->catboost) (3.2.3)\n",
      "Requirement already satisfied: narwhals>=1.15.1 in c:\\users\\amitk\\appdata\\roaming\\python\\python313\\site-packages (from plotly->catboost) (1.42.1)\n",
      "Downloading xgboost-3.1.0-py3-none-win_amd64.whl (72.0 MB)\n",
      "   ---------------------------------------- 0.0/72.0 MB ? eta -:--:--\n",
      "   ---------------------------------------- 0.5/72.0 MB 5.2 MB/s eta 0:00:14\n",
      "   - -------------------------------------- 2.9/72.0 MB 10.3 MB/s eta 0:00:07\n",
      "   --- ------------------------------------ 5.5/72.0 MB 11.0 MB/s eta 0:00:07\n",
      "   ---- ----------------------------------- 7.9/72.0 MB 11.2 MB/s eta 0:00:06\n",
      "   ----- ---------------------------------- 10.5/72.0 MB 11.4 MB/s eta 0:00:06\n",
      "   ------- -------------------------------- 13.1/72.0 MB 11.5 MB/s eta 0:00:06\n",
      "   -------- ------------------------------- 16.0/72.0 MB 11.7 MB/s eta 0:00:05\n",
      "   ---------- ----------------------------- 18.4/72.0 MB 11.8 MB/s eta 0:00:05\n",
      "   ----------- ---------------------------- 21.5/72.0 MB 12.0 MB/s eta 0:00:05\n",
      "   ------------- -------------------------- 24.1/72.0 MB 12.1 MB/s eta 0:00:04\n",
      "   --------------- ------------------------ 27.0/72.0 MB 12.2 MB/s eta 0:00:04\n",
      "   ---------------- ----------------------- 29.6/72.0 MB 12.2 MB/s eta 0:00:04\n",
      "   ------------------ --------------------- 32.5/72.0 MB 12.3 MB/s eta 0:00:04\n",
      "   ------------------- -------------------- 35.1/72.0 MB 12.3 MB/s eta 0:00:03\n",
      "   -------------------- ------------------- 37.7/72.0 MB 12.3 MB/s eta 0:00:03\n",
      "   ---------------------- ----------------- 40.6/72.0 MB 12.4 MB/s eta 0:00:03\n",
      "   ------------------------ --------------- 43.5/72.0 MB 12.5 MB/s eta 0:00:03\n",
      "   ------------------------- -------------- 46.4/72.0 MB 12.5 MB/s eta 0:00:03\n",
      "   --------------------------- ------------ 49.3/72.0 MB 12.6 MB/s eta 0:00:02\n",
      "   ---------------------------- ----------- 52.2/72.0 MB 12.7 MB/s eta 0:00:02\n",
      "   ------------------------------ --------- 55.3/72.0 MB 12.7 MB/s eta 0:00:02\n",
      "   -------------------------------- ------- 57.9/72.0 MB 12.8 MB/s eta 0:00:02\n",
      "   --------------------------------- ------ 61.1/72.0 MB 12.8 MB/s eta 0:00:01\n",
      "   ----------------------------------- ---- 64.0/72.0 MB 12.9 MB/s eta 0:00:01\n",
      "   ------------------------------------- -- 67.1/72.0 MB 12.9 MB/s eta 0:00:01\n",
      "   -------------------------------------- - 69.7/72.0 MB 12.9 MB/s eta 0:00:01\n",
      "   ---------------------------------------  71.8/72.0 MB 13.0 MB/s eta 0:00:01\n",
      "   ---------------------------------------- 72.0/72.0 MB 12.6 MB/s  0:00:05\n",
      "Downloading catboost-1.2.8-cp313-cp313-win_amd64.whl (102.4 MB)\n",
      "   ---------------------------------------- 0.0/102.4 MB ? eta -:--:--\n",
      "   - -------------------------------------- 2.9/102.4 MB 14.2 MB/s eta 0:00:08\n",
      "   -- ------------------------------------- 5.5/102.4 MB 14.3 MB/s eta 0:00:07\n",
      "   --- ------------------------------------ 8.4/102.4 MB 13.0 MB/s eta 0:00:08\n",
      "   ---- ----------------------------------- 11.0/102.4 MB 12.6 MB/s eta 0:00:08\n",
      "   ----- ---------------------------------- 13.4/102.4 MB 12.4 MB/s eta 0:00:08\n",
      "   ------ --------------------------------- 15.7/102.4 MB 12.2 MB/s eta 0:00:08\n",
      "   ------- -------------------------------- 18.4/102.4 MB 12.1 MB/s eta 0:00:07\n",
      "   -------- ------------------------------- 21.0/102.4 MB 12.1 MB/s eta 0:00:07\n",
      "   --------- ------------------------------ 23.6/102.4 MB 12.1 MB/s eta 0:00:07\n",
      "   ---------- ----------------------------- 26.2/102.4 MB 12.1 MB/s eta 0:00:07\n",
      "   ----------- ---------------------------- 28.8/102.4 MB 12.1 MB/s eta 0:00:07\n",
      "   ------------ --------------------------- 31.5/102.4 MB 12.2 MB/s eta 0:00:06\n",
      "   ------------- -------------------------- 34.3/102.4 MB 12.3 MB/s eta 0:00:06\n",
      "   -------------- ------------------------- 37.0/102.4 MB 12.4 MB/s eta 0:00:06\n",
      "   --------------- ------------------------ 39.8/102.4 MB 12.4 MB/s eta 0:00:06\n",
      "   ---------------- ----------------------- 42.7/102.4 MB 12.5 MB/s eta 0:00:05\n",
      "   ------------------ --------------------- 46.1/102.4 MB 12.6 MB/s eta 0:00:05\n",
      "   ------------------- -------------------- 48.8/102.4 MB 12.7 MB/s eta 0:00:05\n",
      "   -------------------- ------------------- 51.9/102.4 MB 12.8 MB/s eta 0:00:04\n",
      "   --------------------- ------------------ 55.1/102.4 MB 12.8 MB/s eta 0:00:04\n",
      "   ---------------------- ----------------- 57.9/102.4 MB 12.9 MB/s eta 0:00:04\n",
      "   ----------------------- ---------------- 60.8/102.4 MB 12.9 MB/s eta 0:00:04\n",
      "   ------------------------ --------------- 63.7/102.4 MB 13.0 MB/s eta 0:00:03\n",
      "   -------------------------- ------------- 66.6/102.4 MB 13.0 MB/s eta 0:00:03\n",
      "   --------------------------- ------------ 69.7/102.4 MB 13.1 MB/s eta 0:00:03\n",
      "   ---------------------------- ----------- 72.9/102.4 MB 13.1 MB/s eta 0:00:03\n",
      "   ----------------------------- ---------- 76.0/102.4 MB 13.2 MB/s eta 0:00:03\n",
      "   ------------------------------ --------- 79.2/102.4 MB 13.2 MB/s eta 0:00:02\n",
      "   -------------------------------- ------- 82.6/102.4 MB 13.3 MB/s eta 0:00:02\n",
      "   --------------------------------- ------ 85.5/102.4 MB 13.3 MB/s eta 0:00:02\n",
      "   ---------------------------------- ----- 88.6/102.4 MB 13.4 MB/s eta 0:00:02\n",
      "   ----------------------------------- ---- 91.5/102.4 MB 13.4 MB/s eta 0:00:01\n",
      "   ------------------------------------ --- 94.6/102.4 MB 13.4 MB/s eta 0:00:01\n",
      "   -------------------------------------- - 97.5/102.4 MB 13.5 MB/s eta 0:00:01\n",
      "   --------------------------------------  100.7/102.4 MB 13.5 MB/s eta 0:00:01\n",
      "   --------------------------------------  102.2/102.4 MB 13.5 MB/s eta 0:00:01\n",
      "   --------------------------------------  102.2/102.4 MB 13.5 MB/s eta 0:00:01\n",
      "   ---------------------------------------- 102.4/102.4 MB 12.9 MB/s  0:00:07\n",
      "Downloading graphviz-0.21-py3-none-any.whl (47 kB)\n",
      "Installing collected packages: graphviz, xgboost, catboost\n",
      "\n",
      "   ---------------------------------------- 0/3 [graphviz]\n",
      "   ---------------------------------------- 0/3 [graphviz]\n",
      "   ---------------------------------------- 0/3 [graphviz]\n",
      "   ---------------------------------------- 0/3 [graphviz]\n",
      "   ---------------------------------------- 0/3 [graphviz]\n",
      "   ---------------------------------------- 0/3 [graphviz]\n",
      "   ------------- -------------------------- 1/3 [xgboost]\n",
      "   ------------- -------------------------- 1/3 [xgboost]\n",
      "   ------------- -------------------------- 1/3 [xgboost]\n",
      "   ------------- -------------------------- 1/3 [xgboost]\n",
      "   ------------- -------------------------- 1/3 [xgboost]\n",
      "   ------------- -------------------------- 1/3 [xgboost]\n",
      "   ------------- -------------------------- 1/3 [xgboost]\n",
      "   ------------- -------------------------- 1/3 [xgboost]\n",
      "   ------------- -------------------------- 1/3 [xgboost]\n",
      "   ------------- -------------------------- 1/3 [xgboost]\n",
      "   ------------- -------------------------- 1/3 [xgboost]\n",
      "   ------------- -------------------------- 1/3 [xgboost]\n",
      "   ------------- -------------------------- 1/3 [xgboost]\n",
      "   ------------- -------------------------- 1/3 [xgboost]\n",
      "   ------------- -------------------------- 1/3 [xgboost]\n",
      "   ------------- -------------------------- 1/3 [xgboost]\n",
      "   ------------- -------------------------- 1/3 [xgboost]\n",
      "   ------------- -------------------------- 1/3 [xgboost]\n",
      "   ------------- -------------------------- 1/3 [xgboost]\n",
      "   ------------- -------------------------- 1/3 [xgboost]\n",
      "   -------------------------- ------------- 2/3 [catboost]\n",
      "   -------------------------- ------------- 2/3 [catboost]\n",
      "   -------------------------- ------------- 2/3 [catboost]\n",
      "   -------------------------- ------------- 2/3 [catboost]\n",
      "   -------------------------- ------------- 2/3 [catboost]\n",
      "   -------------------------- ------------- 2/3 [catboost]\n",
      "   -------------------------- ------------- 2/3 [catboost]\n",
      "   -------------------------- ------------- 2/3 [catboost]\n",
      "   -------------------------- ------------- 2/3 [catboost]\n",
      "   -------------------------- ------------- 2/3 [catboost]\n",
      "   -------------------------- ------------- 2/3 [catboost]\n",
      "   -------------------------- ------------- 2/3 [catboost]\n",
      "   -------------------------- ------------- 2/3 [catboost]\n",
      "   -------------------------- ------------- 2/3 [catboost]\n",
      "   -------------------------- ------------- 2/3 [catboost]\n",
      "   -------------------------- ------------- 2/3 [catboost]\n",
      "   -------------------------- ------------- 2/3 [catboost]\n",
      "   -------------------------- ------------- 2/3 [catboost]\n",
      "   -------------------------- ------------- 2/3 [catboost]\n",
      "   -------------------------- ------------- 2/3 [catboost]\n",
      "   -------------------------- ------------- 2/3 [catboost]\n",
      "   -------------------------- ------------- 2/3 [catboost]\n",
      "   -------------------------- ------------- 2/3 [catboost]\n",
      "   -------------------------- ------------- 2/3 [catboost]\n",
      "   -------------------------- ------------- 2/3 [catboost]\n",
      "   -------------------------- ------------- 2/3 [catboost]\n",
      "   -------------------------- ------------- 2/3 [catboost]\n",
      "   ---------------------------------------- 3/3 [catboost]\n",
      "\n",
      "Successfully installed catboost-1.2.8 graphviz-0.21 xgboost-3.1.0\n",
      "Note: you may need to restart the kernel to use updated packages.\n"
     ]
    }
   ],
   "source": [
    "pip install xgboost catboost"
   ]
  },
  {
   "cell_type": "code",
   "execution_count": 9,
   "id": "f8015cd1",
   "metadata": {},
   "outputs": [
    {
     "name": "stdout",
     "output_type": "stream",
     "text": [
      "Best params: {'learning_rate': 0.2, 'n_estimators': 50}\n",
      "Best CV accuracy: 0.9694\n",
      "Test accuracy with best XGBoost: 0.958041958041958\n"
     ]
    },
    {
     "name": "stderr",
     "output_type": "stream",
     "text": [
      "C:\\Users\\amitk\\AppData\\Roaming\\Python\\Python313\\site-packages\\xgboost\\training.py:199: UserWarning: [14:25:11] WARNING: C:\\actions-runner\\_work\\xgboost\\xgboost\\src\\learner.cc:790: \n",
      "Parameters: { \"use_label_encoder\" } are not used.\n",
      "\n",
      "  bst.update(dtrain, iteration=i, fobj=obj)\n"
     ]
    }
   ],
   "source": [
    "# Q8: Train an XGBoost Classifier on the Breast Cancer dataset and tune learning_rate using GridSearchCV\n",
    "# This cell will try to import xgboost; if unavailable, it will print instructions.\n",
    "try:\n",
    "    import xgboost as xgb\n",
    "    from xgboost import XGBClassifier\n",
    "except Exception as e:\n",
    "    print('xgboost is not installed or import failed. To run this cell install xgboost: pip install xgboost')\n",
    "    XGBClassifier = None\n",
    "\n",
    "if XGBClassifier is not None:\n",
    "    pipe = XGBClassifier(use_label_encoder=False, eval_metric='logloss', random_state=42)\n",
    "    param_grid = {'learning_rate': [0.01, 0.05, 0.1, 0.2], 'n_estimators': [50, 100]}\n",
    "    grid = GridSearchCV(pipe, param_grid, cv=5, scoring='accuracy', n_jobs=-1)\n",
    "    grid.fit(X_train_s, y_train)\n",
    "    print('Best params:', grid.best_params_)\n",
    "    print('Best CV accuracy: {:.4f}'.format(grid.best_score_))\n",
    "    best = grid.best_estimator_\n",
    "    y_pred_xgb = best.predict(X_test_s)\n",
    "    print('Test accuracy with best XGBoost:', accuracy_score(y_test, y_pred_xgb))\n"
   ]
  },
  {
   "cell_type": "code",
   "execution_count": 10,
   "id": "3e9d8ffe",
   "metadata": {},
   "outputs": [
    {
     "name": "stdout",
     "output_type": "stream",
     "text": [
      "CatBoost accuracy: 0.965034965034965\n"
     ]
    },
    {
     "data": {
      "image/png": "[encoded data removed]",
      "text/plain": [
       "<Figure size 600x500 with 2 Axes>"
      ]
     },
     "metadata": {},
     "output_type": "display_data"
    }
   ],
   "source": [
    "# Q9: Train a CatBoost Classifier and plot confusion matrix using seaborn\n",
    "try:\n",
    "    from catboost import CatBoostClassifier\n",
    "except Exception as e:\n",
    "    print('catboost is not installed or import failed. To run this cell install catboost: pip install catboost')\n",
    "    CatBoostClassifier = None\n",
    "\n",
    "if CatBoostClassifier is not None:\n",
    "    cbc = CatBoostClassifier(silent=True, random_state=42)\n",
    "    cbc.fit(X_train_s, y_train)\n",
    "    y_pred_cbc = cbc.predict(X_test_s)\n",
    "    print('CatBoost accuracy:', accuracy_score(y_test, y_pred_cbc))\n",
    "    cm = confusion_matrix(y_test, y_pred_cbc)\n",
    "    plt.figure(figsize=(6,5))\n",
    "    sns.heatmap(cm, annot=True, fmt='d', cmap='Blues')\n",
    "    plt.xlabel('Predicted')\n",
    "    plt.ylabel('Actual')\n",
    "    plt.title('Confusion Matrix — CatBoost on Breast Cancer')\n",
    "    plt.show()\n"
   ]
  },
  {
   "cell_type": "markdown",
   "id": "77d312a6",
   "metadata": {},
   "source": [
    "## Question 10\n",
    "**Scenario:** Predict loan default with imbalanced dataset, missing values, numeric & categorical features.\n",
    "\n",
    "**Step-by-step pipeline (boosting-focused):**\n",
    "\n",
    "1. **Data preprocessing & handling missing/categorical values**\n",
    "   - Exploratory Data Analysis: class balance, missingness patterns, feature distributions.\n",
    "   - Missing values:\n",
    "     - If missingness is small and random: impute (median for numeric, most-frequent/constant for categorical).\n",
    "     - If missingness informative: add missing-indicator features.\n",
    "   - Categorical features:\n",
    "     - Prefer CatBoost if you have many categorical features — it accepts categorical indices directly.\n",
    "     - For XGBoost/LightGBM: use target encoding, frequency encoding, or one-hot (careful with cardinality).\n",
    "   - Feature engineering: create transaction aggregates, recency/frequency features, ratios, behavior summaries.\n",
    "   - Resampling for imbalance: use class weighting, focal loss, or resampling (SMOTE, ADASYN) — prefer model-aware approaches (class_weight or scale_pos_weight in XGBoost) and careful CV.\n",
    "\n",
    "2. **Choice between AdaBoost, XGBoost, or CatBoost**\n",
    "   - **CatBoost:** best if many categorical features, minimal preprocessing, robust default settings.\n",
    "   - **XGBoost/LightGBM:** highly performant, good for large datasets, offer fine control and regularization.\n",
    "   - **AdaBoost:** simpler but less flexible on complex imbalanced tabular data; not preferred when data is heavily imbalanced.\n",
    "\n",
    "3. **Hyperparameter tuning strategy**\n",
    "   - Use randomized search or Bayesian optimization for efficiency (e.g., Optuna).\n",
    "   - Important hyperparameters: learning_rate, n_estimators, max_depth, subsample, colsample_bytree, reg_alpha, reg_lambda, scale_pos_weight.\n",
    "   - Use stratified (group) cross-validation and evaluate with appropriate metrics.\n",
    "\n",
    "4. **Evaluation metrics & why**\n",
    "   - For imbalanced classification: use ROC-AUC, PR-AUC (precision-recall AUC), recall, F1-score, and confusion matrix.\n",
    "   - Business-focused metrics: false negative rate (loan default predicted as non-default) often more costly — use cost-sensitive evaluation and expected monetary loss.\n",
    "\n",
    "5. **Business benefits**\n",
    "   - Improved detection of likely defaulters reduces credit losses.\n",
    "   - Prioritize collections and risk-based pricing.\n",
    "   - Explainability: feature importance, SHAP values help stakeholders trust model decisions.\n",
    "\n",
    "**Demo pipeline code (sketch):**\n"
   ]
  },
  {
   "cell_type": "code",
   "execution_count": 11,
   "id": "cbdb6181",
   "metadata": {},
   "outputs": [
    {
     "name": "stdout",
     "output_type": "stream",
     "text": [
      "Using XGBoost in demo pipeline\n"
     ]
    },
    {
     "name": "stderr",
     "output_type": "stream",
     "text": [
      "C:\\Users\\amitk\\AppData\\Roaming\\Python\\Python313\\site-packages\\xgboost\\training.py:199: UserWarning: [14:25:40] WARNING: C:\\actions-runner\\_work\\xgboost\\xgboost\\src\\learner.cc:790: \n",
      "Parameters: { \"use_label_encoder\" } are not used.\n",
      "\n",
      "  bst.update(dtrain, iteration=i, fobj=obj)\n"
     ]
    },
    {
     "name": "stdout",
     "output_type": "stream",
     "text": [
      "Demo ROC-AUC: 0.9327, PR-AUC: 0.8130\n"
     ]
    }
   ],
   "source": [
    "# Demo: sketch pipeline for imbalanced loan-default-like task (synthetic data)\n",
    "from sklearn.datasets import make_classification\n",
    "from sklearn.impute import SimpleImputer\n",
    "from sklearn.preprocessing import OneHotEncoder\n",
    "from sklearn.compose import ColumnTransformer\n",
    "from sklearn.pipeline import Pipeline\n",
    "from sklearn.metrics import roc_auc_score, precision_recall_curve, auc\n",
    "\n",
    "# Synthetic imbalanced dataset\n",
    "X_syn, y_syn = make_classification(n_samples=2000, n_features=20, n_informative=5, n_redundant=2,\n",
    "                                   n_classes=2, weights=[0.9, 0.1], flip_y=0.01, random_state=42)\n",
    "\n",
    "X_train_s, X_test_s, y_train_s, y_test_s = train_test_split(X_syn, y_syn, test_size=0.25, stratify=y_syn, random_state=42)\n",
    "\n",
    "# Simple pipeline with XGBoost if available, else AdaBoost fallback\n",
    "try:\n",
    "    from xgboost import XGBClassifier\n",
    "    clf = XGBClassifier(use_label_encoder=False, eval_metric='logloss', random_state=42, scale_pos_weight=(y_train_s==0).sum()/(y_train_s==1).sum())\n",
    "    print('Using XGBoost in demo pipeline')\n",
    "except Exception:\n",
    "    from sklearn.ensemble import AdaBoostClassifier\n",
    "    clf = AdaBoostClassifier(n_estimators=100, random_state=42)\n",
    "    print('XGBoost not available — using AdaBoost fallback in demo pipeline')\n",
    "\n",
    "pipe = Pipeline([('scaler', StandardScaler()), ('clf', clf)])\n",
    "pipe.fit(X_train_s, y_train_s)\n",
    "\n",
    "y_proba = pipe.predict_proba(X_test_s)[:,1] if hasattr(pipe.named_steps['clf'], 'predict_proba') else pipe.decision_function(X_test_s)\n",
    "roc = roc_auc_score(y_test_s, y_proba)\n",
    "precision, recall, _ = precision_recall_curve(y_test_s, y_proba)\n",
    "pr_auc = auc(recall, precision)\n",
    "print('Demo ROC-AUC: {:.4f}, PR-AUC: {:.4f}'.format(roc, pr_auc))\n"
   ]
  }
 ],
 "metadata": {
  "kernelspec": {
   "display_name": "Python 3",
   "language": "python",
   "name": "python3"
  },
  "language_info": {
   "codemirror_mode": {
    "name": "ipython",
    "version": 3
   },
   "file_extension": ".py",
   "mimetype": "text/x-python",
   "name": "python",
   "nbconvert_exporter": "python",
   "pygments_lexer": "ipython3",
   "version": "3.13.1"
  }
 },
 "nbformat": 4,
 "nbformat_minor": 5
}
